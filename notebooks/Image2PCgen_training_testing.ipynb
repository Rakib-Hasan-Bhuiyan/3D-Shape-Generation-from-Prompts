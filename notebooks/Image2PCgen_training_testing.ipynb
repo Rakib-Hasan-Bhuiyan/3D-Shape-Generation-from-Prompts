{
 "cells": [
  {
   "cell_type": "markdown",
   "metadata": {},
   "source": [
    "# Requirements"
   ]
  },
  {
   "cell_type": "code",
   "execution_count": null,
   "metadata": {
    "_cell_guid": "b1076dfc-b9ad-4769-8c92-a6c4dae69d19",
    "_uuid": "8f2839f25d086af736a60e9eeb907d3b93b6e0e5",
    "collapsed": true,
    "execution": {
     "iopub.execute_input": "2025-08-24T15:19:47.916348Z",
     "iopub.status.busy": "2025-08-24T15:19:47.915711Z",
     "iopub.status.idle": "2025-08-24T15:21:11.158336Z",
     "shell.execute_reply": "2025-08-24T15:21:11.157311Z",
     "shell.execute_reply.started": "2025-08-24T15:19:47.916320Z"
    },
    "jupyter": {
     "outputs_hidden": true
    },
    "trusted": true
   },
   "outputs": [],
   "source": [
    "!pip install torch torchvision torchaudio timm tqdm pillow numpy matplotlib ftfy regex"
   ]
  },
  {
   "cell_type": "code",
   "execution_count": null,
   "metadata": {
    "collapsed": true,
    "execution": {
     "iopub.execute_input": "2025-08-24T15:21:42.714475Z",
     "iopub.status.busy": "2025-08-24T15:21:42.713433Z",
     "iopub.status.idle": "2025-08-24T15:34:27.966895Z",
     "shell.execute_reply": "2025-08-24T15:34:27.965913Z",
     "shell.execute_reply.started": "2025-08-24T15:21:42.714434Z"
    },
    "jupyter": {
     "outputs_hidden": true
    },
    "trusted": true
   },
   "outputs": [],
   "source": [
    "!pip install \"git+https://github.com/facebookresearch/pytorch3d.git\""
   ]
  },
  {
   "cell_type": "code",
   "execution_count": null,
   "metadata": {
    "collapsed": true,
    "execution": {
     "iopub.execute_input": "2025-08-24T15:34:52.833843Z",
     "iopub.status.busy": "2025-08-24T15:34:52.832891Z",
     "iopub.status.idle": "2025-08-24T15:35:05.394510Z",
     "shell.execute_reply": "2025-08-24T15:35:05.393638Z",
     "shell.execute_reply.started": "2025-08-24T15:34:52.833804Z"
    },
    "jupyter": {
     "outputs_hidden": true
    },
    "trusted": true
   },
   "outputs": [],
   "source": [
    "!pip install kaolin==0.18.0 -f https://nvidia-kaolin.s3.us-east-2.amazonaws.com/torch-2.6.0_cu124.html"
   ]
  },
  {
   "cell_type": "code",
   "execution_count": null,
   "metadata": {
    "collapsed": true,
    "execution": {
     "iopub.execute_input": "2025-08-24T15:35:10.128301Z",
     "iopub.status.busy": "2025-08-24T15:35:10.127495Z",
     "iopub.status.idle": "2025-08-24T15:35:16.457537Z",
     "shell.execute_reply": "2025-08-24T15:35:16.456661Z",
     "shell.execute_reply.started": "2025-08-24T15:35:10.128269Z"
    },
    "jupyter": {
     "outputs_hidden": true
    },
    "trusted": true
   },
   "outputs": [],
   "source": [
    "!pip install \"git+https://github.com/openai/CLIP.git\""
   ]
  },
  {
   "cell_type": "markdown",
   "metadata": {},
   "source": [
    "# dataset.py"
   ]
  },
  {
   "cell_type": "code",
   "execution_count": 5,
   "metadata": {
    "execution": {
     "iopub.execute_input": "2025-08-24T15:35:19.901556Z",
     "iopub.status.busy": "2025-08-24T15:35:19.900994Z",
     "iopub.status.idle": "2025-08-24T15:35:26.774825Z",
     "shell.execute_reply": "2025-08-24T15:35:26.774049Z",
     "shell.execute_reply.started": "2025-08-24T15:35:19.901526Z"
    },
    "trusted": true
   },
   "outputs": [],
   "source": [
    "import os\n",
    "import glob\n",
    "import torch\n",
    "from torch.utils.data import Dataset, DataLoader, random_split\n",
    "from torchvision import transforms\n",
    "from PIL import Image\n",
    "import numpy as np\n",
    "import time\n",
    "import pickle\n",
    "\n",
    "# --- Dataset Configuration ---\n",
    "IMAGE_PATH = \"/kaggle/input/shapenet/ShapeNet/ShapeNetRendering\"\n",
    "POINTCLOUD_PATH = \"/kaggle/input/shapenet/ShapeNet/ShapeNet_pointclouds\"\n",
    "CACHE_FILE = \"/kaggle/working/shapenet_paths.pkl\"\n",
    "CATEGORIES = ['02691156', '02958343'] #Airplane and Car\n",
    "NUM_POINTS = 1024\n",
    "\n",
    "# --- DataLoader Configuration ---\n",
    "BATCH_SIZE = 32\n",
    "NUM_WORKERS = 4\n",
    "RANDOM_SEED = 42\n",
    "\n",
    "# --- Preprocessing Config ---\n",
    "MEAN = [0.485, 0.456, 0.406]\n",
    "STD = [0.229, 0.224, 0.225]\n",
    "\n",
    "transform = transforms.Compose([\n",
    "    transforms.Resize(256),\n",
    "    transforms.CenterCrop(224),\n",
    "    transforms.ToTensor(),\n",
    "    transforms.Normalize(mean=MEAN, std=STD)\n",
    "])\n",
    "\n",
    "# --- Dataset Class ---\n",
    "class ShapeNetImage2PCDataset(Dataset):\n",
    "    def __init__(self, data_items, transform=None):\n",
    "        self.items = data_items\n",
    "        self.transform = transform\n",
    "\n",
    "    def __len__(self):\n",
    "        return len(self.items)\n",
    "\n",
    "    def __getitem__(self, idx):\n",
    "        if torch.is_tensor(idx):\n",
    "            idx = idx.tolist()\n",
    "\n",
    "        item = self.items[idx]\n",
    "        image_path = item['image_path']\n",
    "        pc_path = item['pc_path']\n",
    "\n",
    "        # Load and preprocess image\n",
    "        image = Image.open(image_path).convert('RGB')\n",
    "        if self.transform:\n",
    "            image = self.transform(image)\n",
    "        \n",
    "        # Load point cloud\n",
    "        points = np.load(pc_path).astype(np.float32)\n",
    "\n",
    "        # Point cloud normalization\n",
    "        centroid = np.mean(points, axis=0)\n",
    "        points -= centroid\n",
    "        max_distance = np.max(np.sqrt(np.sum(points**2, axis=1)))\n",
    "        if max_distance > 0:\n",
    "            points /= max_distance\n",
    "        \n",
    "        points = torch.from_numpy(points)\n",
    "        \n",
    "        return image, points\n",
    "\n",
    "\n",
    "# --- Data Item Collection ---\n",
    "def get_data_items(image_root, pc_root, categories):\n",
    "    all_items = []\n",
    "    for category in categories:\n",
    "        pc_category_path = os.path.join(pc_root, category)\n",
    "        \n",
    "        # Check if the point cloud category path exists before proceeding\n",
    "        if not os.path.isdir(pc_category_path):\n",
    "            continue\n",
    "\n",
    "        for model_id in os.listdir(pc_category_path):\n",
    "            image_model_path = os.path.join(image_root, category, model_id, 'rendering')\n",
    "            \n",
    "            if not os.path.isdir(image_model_path):\n",
    "                continue\n",
    "\n",
    "            pc_path = os.path.join(pc_category_path, model_id, f'pointcloud_{NUM_POINTS}.npy')\n",
    "            if not os.path.exists(pc_path):\n",
    "                continue\n",
    "            \n",
    "            image_paths = sorted(glob.glob(os.path.join(image_model_path, '*.png')))\n",
    "            \n",
    "            for image_path in image_paths:\n",
    "                all_items.append({\n",
    "                    'image_path': image_path,\n",
    "                    'pc_path': pc_path,\n",
    "                    'category': category,\n",
    "                    'model_id': model_id\n",
    "                })\n",
    "                \n",
    "    print(f\"Path pre-computation finished. Found {len(all_items)} samples.\")\n",
    "    return all_items\n",
    "\n",
    "\n",
    "# --- Main Data Loader Function ---\n",
    "def get_dataloaders():\n",
    "    if os.path.exists(CACHE_FILE):\n",
    "        print(\"Loading dataset file paths from cache...\")\n",
    "        with open(CACHE_FILE, 'rb') as f:\n",
    "            all_items = pickle.load(f)\n",
    "        print(f\"Loaded {len(all_items)} samples from cache.\")\n",
    "    else:\n",
    "        print(\"Cache file not found. Pre-computing dataset file paths. This may take a while...\")\n",
    "        all_items = get_data_items(IMAGE_PATH, POINTCLOUD_PATH, CATEGORIES)\n",
    "        \n",
    "        if len(all_items) == 0:\n",
    "            raise ValueError(\"Dataset is empty. Please check your data paths and categories.\")\n",
    "            \n",
    "        print(f\"Saving file paths to cache at {CACHE_FILE}...\")\n",
    "        with open(CACHE_FILE, 'wb') as f:\n",
    "            pickle.dump(all_items, f)\n",
    "        print(\"File paths saved. Subsequent runs will be much faster.\")\n",
    "\n",
    "    dataset = ShapeNetImage2PCDataset(\n",
    "        data_items=all_items,\n",
    "        transform=transform\n",
    "    )\n",
    "\n",
    "    total_size = len(dataset)\n",
    "    train_size = int(total_size * 0.7)\n",
    "    val_size = int(total_size * 0.2)\n",
    "    test_size = total_size - train_size - val_size\n",
    "\n",
    "    # Set a fixed seed for reproducibility before splitting the dataset\n",
    "    torch.manual_seed(RANDOM_SEED)\n",
    "\n",
    "    train_dataset, val_dataset, test_dataset = random_split(\n",
    "        dataset, \n",
    "        [train_size, val_size, test_size]\n",
    "    )\n",
    "\n",
    "    print(f\"Total number of samples: {total_size}\")\n",
    "    print(f\"Training samples: {len(train_dataset)}\")\n",
    "    print(f\"Validation samples: {len(val_dataset)}\")\n",
    "    print(f\"Test samples: {len(test_dataset)}\")\n",
    "    \n",
    "    train_loader = DataLoader(\n",
    "        train_dataset,\n",
    "        batch_size=BATCH_SIZE,\n",
    "        shuffle=True,\n",
    "        num_workers=NUM_WORKERS,\n",
    "        pin_memory=True\n",
    "    )\n",
    "\n",
    "    val_loader = DataLoader(\n",
    "        val_dataset,\n",
    "        batch_size=BATCH_SIZE,\n",
    "        shuffle=False,\n",
    "        num_workers=NUM_WORKERS,\n",
    "        pin_memory=True\n",
    "    )\n",
    "\n",
    "    test_loader = DataLoader(\n",
    "        test_dataset,\n",
    "        batch_size=BATCH_SIZE,\n",
    "        shuffle=False,\n",
    "        num_workers=NUM_WORKERS,\n",
    "        pin_memory=True\n",
    "    )\n",
    "\n",
    "    return train_loader, val_loader, test_loader"
   ]
  },
  {
   "cell_type": "markdown",
   "metadata": {},
   "source": [
    "# model.py"
   ]
  },
  {
   "cell_type": "code",
   "execution_count": 6,
   "metadata": {
    "execution": {
     "iopub.execute_input": "2025-08-24T15:35:36.240485Z",
     "iopub.status.busy": "2025-08-24T15:35:36.240044Z",
     "iopub.status.idle": "2025-08-24T15:35:41.518567Z",
     "shell.execute_reply": "2025-08-24T15:35:41.517811Z",
     "shell.execute_reply.started": "2025-08-24T15:35:36.240462Z"
    },
    "trusted": true
   },
   "outputs": [],
   "source": [
    "import torch\n",
    "import torch.nn as nn\n",
    "import timm\n",
    "from typing import Tuple\n",
    "\n",
    "# --- Model Configuration ---\n",
    "D_MODEL = 256\n",
    "NHEAD = 8\n",
    "NUM_LAYERS = 6\n",
    "DIM_FF = 1024\n",
    "P_DROP = 0.1\n",
    "GLOBAL_COND = True\n",
    "\n",
    "# ---------------------------\n",
    "# Building Blocks\n",
    "# ---------------------------\n",
    "class FFN(nn.Module):\n",
    "    def __init__(self, d_model, dim_ff=1024, p_drop=0.0, act=nn.GELU):\n",
    "        super().__init__()\n",
    "        self.net = nn.Sequential(\n",
    "            nn.Linear(d_model, dim_ff),\n",
    "            act(),\n",
    "            nn.Dropout(p_drop),\n",
    "            nn.Linear(dim_ff, d_model),\n",
    "            nn.Dropout(p_drop),\n",
    "        )\n",
    "\n",
    "    def forward(self, x):\n",
    "        return self.net(x)\n",
    "\n",
    "\n",
    "class PointDecoderBlock(nn.Module):\n",
    "    def __init__(self, d_model=256, nhead=8, dim_ff=1024, p_drop=0.0):\n",
    "        super().__init__()\n",
    "        self.self_attn = nn.MultiheadAttention(d_model, nhead, batch_first=True)\n",
    "        self.cross_attn = nn.MultiheadAttention(d_model, nhead, batch_first=True)\n",
    "        self.ln1 = nn.LayerNorm(d_model)\n",
    "        self.ln2 = nn.LayerNorm(d_model)\n",
    "        self.ln3 = nn.LayerNorm(d_model)\n",
    "        self.ffn = FFN(d_model, dim_ff=dim_ff, p_drop=p_drop)\n",
    "\n",
    "    def forward(self, q, mem):\n",
    "        q2, _ = self.self_attn(q, q, q, need_weights=False)\n",
    "        q = self.ln1(q + q2)\n",
    "        q2, _ = self.cross_attn(q, mem, mem, need_weights=False)\n",
    "        q = self.ln2(q + q2)\n",
    "        q2 = self.ffn(q)\n",
    "        q = self.ln3(q + q2)\n",
    "        return q\n",
    "\n",
    "\n",
    "class PointTransformerDecoder(nn.Module):\n",
    "    def __init__(self, num_queries=1024, d_model=256, nhead=8, num_layers=6, dim_ff=1024, \n",
    "                 p_drop=0.1, global_cond=True):\n",
    "        super().__init__()\n",
    "        self.num_queries = num_queries\n",
    "        self.d_model = d_model\n",
    "        self.global_cond = global_cond\n",
    "\n",
    "        self.query_embed = nn.Parameter(torch.randn(1, num_queries, d_model))\n",
    "        self.global_proj = nn.Linear(d_model, d_model) if global_cond else None\n",
    "\n",
    "        self.blocks = nn.ModuleList([\n",
    "            PointDecoderBlock(d_model, nhead, dim_ff, p_drop) for _ in range(num_layers)\n",
    "        ])\n",
    "\n",
    "        self.head = nn.Sequential(\n",
    "            nn.LayerNorm(d_model),\n",
    "            nn.Linear(d_model, d_model),\n",
    "            nn.GELU(),\n",
    "        )\n",
    "\n",
    "        self.to_xyz = nn.Linear(d_model, 3)\n",
    "\n",
    "    def forward(self, mem_tokens, global_feat=None):\n",
    "        B, T, D = mem_tokens.shape\n",
    "        q = self.query_embed.expand(B, -1, -1)\n",
    "        if self.global_cond and global_feat is not None:\n",
    "            g = self.global_proj(global_feat)\n",
    "            q = q + g.unsqueeze(1)\n",
    "\n",
    "        for blk in self.blocks:\n",
    "            q = blk(q, mem_tokens)\n",
    "\n",
    "        q = self.head(q)  # (B, Q, D)\n",
    "\n",
    "        xyz = self.to_xyz(q)\n",
    "        return xyz\n",
    "\n",
    "\n",
    "class ImageEncoderViT(nn.Module):\n",
    "    def __init__(self, model_name='vit_base_patch16_224', pretrained=True, freeze=True, out_dim=256, attn_heads=4):\n",
    "        super().__init__()\n",
    "        self.vit = timm.create_model(model_name, pretrained=pretrained, num_classes=0)\n",
    "        self.vit_dim = self.vit.num_features\n",
    "        if freeze:\n",
    "            for p in self.vit.parameters():\n",
    "                p.requires_grad = False\n",
    "\n",
    "        self.token_attn = nn.MultiheadAttention(self.vit_dim, attn_heads, batch_first=True)\n",
    "        self.ln_tokens = nn.LayerNorm(self.vit_dim)\n",
    "\n",
    "        self.pool_q = nn.Parameter(torch.randn(1, 1, self.vit_dim))\n",
    "        self.pool_attn = nn.MultiheadAttention(self.vit_dim, attn_heads, batch_first=True)\n",
    "        self.ln_global = nn.LayerNorm(self.vit_dim)\n",
    "\n",
    "        self.mem_proj = nn.Linear(self.vit_dim, out_dim)\n",
    "        self.glob_proj = nn.Linear(self.vit_dim, out_dim)\n",
    "\n",
    "    def forward(self, images: torch.Tensor) -> Tuple[torch.Tensor, torch.Tensor]:\n",
    "        x = self.vit.forward_features(images)  # (B,T,Dv)\n",
    "        x, _ = self.token_attn(x, x, x)\n",
    "        x = self.ln_tokens(x)\n",
    "\n",
    "        B = x.size(0)\n",
    "        q = self.pool_q.expand(B, -1, -1)\n",
    "        g, _ = self.pool_attn(q, x, x)\n",
    "        g = self.ln_global(g.squeeze(1))\n",
    "\n",
    "        mem = self.mem_proj(x)\n",
    "        glob = self.glob_proj(g)\n",
    "        return mem, glob\n",
    "\n",
    "\n",
    "class Image2PCgen(nn.Module):\n",
    "    def __init__(self, num_points=1024, vit_name='vit_base_patch16_224', pretrained=True, freeze_vit=True,\n",
    "                 enc_attn_heads=4, d_model=256, nhead=8, num_layers=6, dim_ff=1024, p_drop=0.1,\n",
    "                 global_cond=True):\n",
    "        super().__init__()\n",
    "\n",
    "        self.encoder = ImageEncoderViT(vit_name, pretrained, freeze_vit, out_dim=d_model, attn_heads=enc_attn_heads)\n",
    "        self.decoder = PointTransformerDecoder(\n",
    "            num_queries=num_points, d_model=d_model, nhead=nhead,\n",
    "            num_layers=num_layers, dim_ff=dim_ff, p_drop=p_drop,\n",
    "            global_cond=global_cond\n",
    "        )\n",
    "\n",
    "    def forward(self, images: torch.Tensor) -> torch.Tensor:\n",
    "        mem, g = self.encoder(images)\n",
    "        points = self.decoder(mem, g)\n",
    "        return points  # (B, N, 3)"
   ]
  },
  {
   "cell_type": "markdown",
   "metadata": {},
   "source": [
    "# utils.py"
   ]
  },
  {
   "cell_type": "code",
   "execution_count": 7,
   "metadata": {
    "execution": {
     "iopub.execute_input": "2025-08-24T15:35:47.693028Z",
     "iopub.status.busy": "2025-08-24T15:35:47.692742Z",
     "iopub.status.idle": "2025-08-24T15:35:47.702184Z",
     "shell.execute_reply": "2025-08-24T15:35:47.701650Z",
     "shell.execute_reply.started": "2025-08-24T15:35:47.693005Z"
    },
    "trusted": true
   },
   "outputs": [],
   "source": [
    "import torch\n",
    "import os\n",
    "import math\n",
    "from torch.optim.lr_scheduler import LambdaLR\n",
    "\n",
    "class EarlyStopping:\n",
    "    def __init__(self, patience=5, min_delta=1e-4):\n",
    "        self.patience = patience\n",
    "        self.min_delta = min_delta\n",
    "        self.counter = 0\n",
    "        self.best_loss = float(\"inf\")\n",
    "        self.early_stop = False\n",
    "\n",
    "    def step(self, val_loss):\n",
    "        if val_loss < self.best_loss - self.min_delta:\n",
    "            self.best_loss = val_loss\n",
    "            self.counter = 0\n",
    "        else:\n",
    "            self.counter += 1\n",
    "            if self.counter >= self.patience:\n",
    "                self.early_stop = True\n",
    "\n",
    "\n",
    "def save_checkpoint(model, optimizer, scheduler, scaler, epoch, train_losses, val_losses, best_val_loss, path):\n",
    "    torch.save({\n",
    "        'epoch': epoch,\n",
    "        'model_state_dict': model.state_dict(),\n",
    "        'optimizer_state_dict': optimizer.state_dict(),\n",
    "        'scheduler_state_dict': scheduler.state_dict() if scheduler else None,\n",
    "        'scaler_state_dict': scaler.state_dict() if scaler else None,\n",
    "        'train_losses': train_losses,\n",
    "        'val_losses': val_losses,\n",
    "        'best_val_loss': best_val_loss\n",
    "    }, path)\n",
    "\n",
    "\n",
    "def load_checkpoint(path, model, optimizer=None, scheduler=None, scaler=None, device=\"cuda\"):\n",
    "    checkpoint = torch.load(path, map_location=device)\n",
    "    model.load_state_dict(checkpoint['model_state_dict'])\n",
    "    if optimizer:\n",
    "        optimizer.load_state_dict(checkpoint['optimizer_state_dict'])\n",
    "    if scheduler and checkpoint['scheduler_state_dict']:\n",
    "        scheduler.load_state_dict(checkpoint['scheduler_state_dict'])\n",
    "    if scaler and checkpoint.get('scaler_state_dict'):\n",
    "        scaler.load_state_dict(checkpoint['scaler_state_dict'])\n",
    "\n",
    "    return (checkpoint['epoch'], \n",
    "            checkpoint['train_losses'], \n",
    "            checkpoint['val_losses'], \n",
    "            checkpoint.get('best_val_loss', float(\"inf\")))\n",
    "\n",
    "\n",
    "def cosine_scheduler(optimizer, warmup_steps, total_steps, min_lr=1e-6, base_lr=1e-4):\n",
    "    def lr_lambda(step):\n",
    "        if step < warmup_steps:\n",
    "            return step / float(max(1, warmup_steps))\n",
    "        progress = (step - warmup_steps) / float(max(1, total_steps - warmup_steps))\n",
    "        return max(min_lr / base_lr, 0.5 * (1.0 + math.cos(math.pi * progress)))\n",
    "    return LambdaLR(optimizer, lr_lambda)"
   ]
  },
  {
   "cell_type": "markdown",
   "metadata": {},
   "source": [
    "# train.py"
   ]
  },
  {
   "cell_type": "code",
   "execution_count": 8,
   "metadata": {
    "execution": {
     "iopub.execute_input": "2025-08-24T15:35:51.984070Z",
     "iopub.status.busy": "2025-08-24T15:35:51.983242Z",
     "iopub.status.idle": "2025-08-24T15:35:52.099887Z",
     "shell.execute_reply": "2025-08-24T15:35:52.099305Z",
     "shell.execute_reply.started": "2025-08-24T15:35:51.984043Z"
    },
    "trusted": true
   },
   "outputs": [],
   "source": [
    "import torch\n",
    "import torch.nn as nn\n",
    "import torch.optim as optim\n",
    "from tqdm import tqdm\n",
    "from pytorch3d.ops import knn_points\n",
    "import os\n",
    "\"\"\"\n",
    "from model import Image2PCgen\n",
    "from dataset import get_dataloaders\n",
    "from utils import EarlyStopping, save_checkpoint, load_checkpoint, cosine_scheduler\n",
    "\"\"\"\n",
    "\n",
    "# --- Training Configuration ---\n",
    "DEVICE = \"cuda\" if torch.cuda.is_available() else \"cpu\"\n",
    "NUM_EPOCHS = 100\n",
    "LEARNING_RATE = 1e-4\n",
    "WARMUP_STEPS = 500\n",
    "ALPHA = 5.0\n",
    "CHECKPOINT_PATH = \"/kaggle/working/last_checkpoint.pth\"\n",
    "BEST_CHECKPOINT_PATH = \"/kaggle/working/best_checkpoint.pth\"\n",
    "\n",
    "\n",
    "# --- Loss Function ---\n",
    "def chamfer_distance_alpha(pred, target, alpha=5.0):\n",
    "    \"\"\"\n",
    "    Computes the asymmetric Chamfer distance.\n",
    "    The parameter 'alpha' weights the distance from the target to the prediction.\n",
    "    \"\"\"\n",
    "    dist1, _, _ = knn_points(pred, target, K=1)\n",
    "    dist2, _, _ = knn_points(target, pred, K=1)\n",
    "    return dist1.mean() + alpha * dist2.mean()\n",
    "\n",
    "\n",
    "def train_one_epoch(model, optimizer, scheduler, train_loader, epoch, scaler):\n",
    "    model.train()\n",
    "    running_loss = 0.0\n",
    "    progress_bar = tqdm(train_loader, desc=f\"Epoch {epoch} [Train]\", leave=False)\n",
    "    for images, pcs in progress_bar:\n",
    "        images, pcs = images.to(DEVICE), pcs.to(DEVICE)\n",
    "        optimizer.zero_grad()\n",
    "\n",
    "        with torch.cuda.amp.autocast(enabled=True):\n",
    "            preds = model(images)\n",
    "        \n",
    "        preds = preds.float()\n",
    "        loss = chamfer_distance_alpha(preds, pcs, alpha=ALPHA)\n",
    "\n",
    "        scaler.scale(loss).backward()\n",
    "        scaler.step(optimizer)\n",
    "        scaler.update()\n",
    "        \n",
    "        if scheduler:\n",
    "            scheduler.step()\n",
    "\n",
    "        running_loss += loss.item() * images.size(0)\n",
    "        progress_bar.set_postfix(loss=loss.item())\n",
    "\n",
    "    return running_loss / len(train_loader.dataset)\n",
    "\n",
    "\n",
    "def validate_one_epoch(model, val_loader, epoch):\n",
    "    model.eval()\n",
    "    running_loss = 0.0\n",
    "    progress_bar = tqdm(val_loader, desc=f\"Epoch {epoch} [Val]\", leave=False)\n",
    "    with torch.no_grad():\n",
    "        for images, pcs in progress_bar:\n",
    "            images, pcs = images.to(DEVICE), pcs.to(DEVICE)\n",
    "            \n",
    "            with torch.cuda.amp.autocast(enabled=True):\n",
    "                preds = model(images)\n",
    "            \n",
    "            preds = preds.float()\n",
    "            loss = chamfer_distance_alpha(preds, pcs, alpha=ALPHA)\n",
    "            running_loss += loss.item() * images.size(0)\n",
    "            progress_bar.set_postfix(loss=loss.item())\n",
    "\n",
    "    return running_loss / len(val_loader.dataset)\n",
    "\n",
    "\n",
    "def main():\n",
    "    train_loader, val_loader, _ = get_dataloaders()\n",
    "\n",
    "    model = Image2PCgen(num_points=1024).to(DEVICE)\n",
    "    optimizer = optim.AdamW(model.parameters(), lr=LEARNING_RATE)\n",
    "    scaler = torch.cuda.amp.GradScaler()\n",
    "    scheduler = cosine_scheduler(optimizer, WARMUP_STEPS, NUM_EPOCHS * len(train_loader))\n",
    "\n",
    "    start_epoch, train_losses, val_losses, best_val_loss = 1, [], [], float(\"inf\")\n",
    "    early_stopper = EarlyStopping(patience=5)\n",
    "\n",
    "    # Resume from checkpoint\n",
    "    if os.path.exists(CHECKPOINT_PATH):\n",
    "        tqdm.write(f\"Resuming from checkpoint {CHECKPOINT_PATH}\")\n",
    "        start_epoch, train_losses, val_losses, best_val_loss = load_checkpoint(\n",
    "            CHECKPOINT_PATH, model, optimizer, scheduler, scaler, DEVICE\n",
    "        )\n",
    "        early_stopper.best_loss = best_val_loss\n",
    "        tqdm.write(f\"Resumed at epoch {start_epoch}, last val_loss={val_losses[-1]:.4f}\")\n",
    "\n",
    "    for epoch in range(start_epoch, NUM_EPOCHS):\n",
    "        train_loss = train_one_epoch(model, optimizer, scheduler, train_loader, epoch, scaler)\n",
    "        val_loss = validate_one_epoch(model, val_loader, epoch)\n",
    "\n",
    "        train_losses.append(train_loss)\n",
    "        val_losses.append(val_loss)\n",
    "\n",
    "        tqdm.write(f\"Epoch {epoch}: Train Loss={train_loss:.4f} | Val Loss={val_loss:.4f}\")\n",
    "\n",
    "        # Always save the last checkpoint\n",
    "        save_checkpoint(model, optimizer, scheduler, scaler, epoch+1,\n",
    "                        train_losses, val_losses, early_stopper.best_loss, CHECKPOINT_PATH)\n",
    "\n",
    "        # Early stopping step\n",
    "        prev_best = early_stopper.best_loss\n",
    "        early_stopper.step(val_loss)\n",
    "\n",
    "        # Save best checkpoint\n",
    "        if early_stopper.counter == 0 and early_stopper.best_loss < prev_best:\n",
    "            save_checkpoint(model, optimizer, scheduler, scaler, epoch+1,\n",
    "                            train_losses, val_losses, early_stopper.best_loss, BEST_CHECKPOINT_PATH)\n",
    "            tqdm.write(f\"New best checkpoint saved at epoch {epoch} with val_loss={val_loss:.4f}\")\n",
    "\n",
    "        if early_stopper.early_stop:\n",
    "            tqdm.write(f\"Early stopping triggered at epoch {epoch}\")\n",
    "            break"
   ]
  },
  {
   "cell_type": "markdown",
   "metadata": {},
   "source": [
    "# Start Training"
   ]
  },
  {
   "cell_type": "code",
   "execution_count": 7,
   "metadata": {
    "execution": {
     "iopub.execute_input": "2025-08-22T21:35:34.895220Z",
     "iopub.status.busy": "2025-08-22T21:35:34.894957Z",
     "iopub.status.idle": "2025-08-23T06:49:54.965360Z",
     "shell.execute_reply": "2025-08-23T06:49:54.964581Z",
     "shell.execute_reply.started": "2025-08-22T21:35:34.895201Z"
    },
    "trusted": true
   },
   "outputs": [
    {
     "name": "stdout",
     "output_type": "stream",
     "text": [
      "Loading dataset file paths from cache...\n",
      "Loaded 276984 samples from cache.\n",
      "Total number of samples: 276984\n",
      "Training samples: 193888\n",
      "Validation samples: 55396\n",
      "Test samples: 27700\n"
     ]
    },
    {
     "data": {
      "application/vnd.jupyter.widget-view+json": {
       "model_id": "b18664480e294e68a0bcd7028b4c67c3",
       "version_major": 2,
       "version_minor": 0
      },
      "text/plain": [
       "model.safetensors:   0%|          | 0.00/346M [00:00<?, ?B/s]"
      ]
     },
     "metadata": {},
     "output_type": "display_data"
    },
    {
     "name": "stdout",
     "output_type": "stream",
     "text": [
      "Resuming from checkpoint /kaggle/working/last_checkpoint.pth\n",
      "Resumed at epoch 50, last val_loss=0.0081\n"
     ]
    },
    {
     "name": "stderr",
     "output_type": "stream",
     "text": [
      "                                                                                   \r"
     ]
    },
    {
     "name": "stdout",
     "output_type": "stream",
     "text": [
      "Epoch 50: Train Loss=0.0064 | Val Loss=0.0082\n"
     ]
    },
    {
     "name": "stderr",
     "output_type": "stream",
     "text": [
      "                                                                                   \r"
     ]
    },
    {
     "name": "stdout",
     "output_type": "stream",
     "text": [
      "Epoch 51: Train Loss=0.0064 | Val Loss=0.0082\n"
     ]
    },
    {
     "name": "stderr",
     "output_type": "stream",
     "text": [
      "                                                                                   \r"
     ]
    },
    {
     "name": "stdout",
     "output_type": "stream",
     "text": [
      "Epoch 52: Train Loss=0.0064 | Val Loss=0.0081\n"
     ]
    },
    {
     "name": "stderr",
     "output_type": "stream",
     "text": [
      "                                                                                   \r"
     ]
    },
    {
     "name": "stdout",
     "output_type": "stream",
     "text": [
      "Epoch 53: Train Loss=0.0064 | Val Loss=0.0081\n"
     ]
    },
    {
     "name": "stderr",
     "output_type": "stream",
     "text": [
      "                                                                                   \r"
     ]
    },
    {
     "name": "stdout",
     "output_type": "stream",
     "text": [
      "Epoch 54: Train Loss=0.0063 | Val Loss=0.0080\n",
      "New best checkpoint saved at epoch 54 with val_loss=0.0080\n"
     ]
    },
    {
     "name": "stderr",
     "output_type": "stream",
     "text": [
      "                                                                                   \r"
     ]
    },
    {
     "name": "stdout",
     "output_type": "stream",
     "text": [
      "Epoch 55: Train Loss=0.0063 | Val Loss=0.0081\n"
     ]
    },
    {
     "name": "stderr",
     "output_type": "stream",
     "text": [
      "                                                                                   \r"
     ]
    },
    {
     "name": "stdout",
     "output_type": "stream",
     "text": [
      "Epoch 56: Train Loss=0.0063 | Val Loss=0.0080\n"
     ]
    },
    {
     "name": "stderr",
     "output_type": "stream",
     "text": [
      "                                                                                   \r"
     ]
    },
    {
     "name": "stdout",
     "output_type": "stream",
     "text": [
      "Epoch 57: Train Loss=0.0062 | Val Loss=0.0081\n"
     ]
    },
    {
     "name": "stderr",
     "output_type": "stream",
     "text": [
      "                                                                                   \r"
     ]
    },
    {
     "name": "stdout",
     "output_type": "stream",
     "text": [
      "Epoch 58: Train Loss=0.0062 | Val Loss=0.0080\n"
     ]
    },
    {
     "name": "stderr",
     "output_type": "stream",
     "text": [
      "                                                                                   \r"
     ]
    },
    {
     "name": "stdout",
     "output_type": "stream",
     "text": [
      "Epoch 59: Train Loss=0.0062 | Val Loss=0.0080\n",
      "Early stopping triggered at epoch 59\n"
     ]
    }
   ],
   "source": [
    "import warnings\n",
    "if __name__ == \"__main__\":\n",
    "    warnings.filterwarnings(\"ignore\")\n",
    "    main()"
   ]
  },
  {
   "cell_type": "code",
   "execution_count": 15,
   "metadata": {
    "execution": {
     "iopub.execute_input": "2025-08-23T07:20:02.645038Z",
     "iopub.status.busy": "2025-08-23T07:20:02.644509Z",
     "iopub.status.idle": "2025-08-23T07:20:04.729008Z",
     "shell.execute_reply": "2025-08-23T07:20:04.728238Z",
     "shell.execute_reply.started": "2025-08-23T07:20:02.645015Z"
    },
    "trusted": true
   },
   "outputs": [
    {
     "data": {
      "image/png": "[encoded data removed]",
      "text/plain": [
       "<Figure size 1000x600 with 1 Axes>"
      ]
     },
     "metadata": {},
     "output_type": "display_data"
    }
   ],
   "source": [
    "import matplotlib.pyplot as plt\n",
    "import torch\n",
    "\n",
    "# --- Paths ---\n",
    "DEVICE = \"cuda\" if torch.cuda.is_available() else \"cpu\"\n",
    "CHECKPOINT_PATH = \"/kaggle/working/last_checkpoint.pth\"\n",
    "\n",
    "# --- Load checkpoint ---\n",
    "model = Image2PCgen(num_points=1024).to(DEVICE)\n",
    "_, train_losses, val_losses, best_val_loss = load_checkpoint(CHECKPOINT_PATH, model, device=DEVICE)\n",
    "\n",
    "# --- Plotting ---\n",
    "plt.figure(figsize=(10,6))\n",
    "plt.plot(range(1, len(train_losses)+1), train_losses, label=\"Train Loss\", marker=\"o\")\n",
    "plt.plot(range(1, len(val_losses)+1), val_losses, label=\"Validation Loss\", marker=\"s\")\n",
    "\n",
    "# If early stopping was triggered, find epoch\n",
    "if len(val_losses) < 100:  # training ended early\n",
    "    stop_epoch = len(val_losses)\n",
    "    plt.axvline(x=stop_epoch, color=\"red\", linestyle=\"--\", label=f\"Early Stop @ Epoch {stop_epoch}\")\n",
    "\n",
    "plt.xlabel(\"Epoch\")\n",
    "plt.ylabel(\"Loss\")\n",
    "plt.title(\"Training & Validation Loss Curves\")\n",
    "plt.legend()\n",
    "plt.grid(True)\n",
    "plt.tight_layout()\n",
    "plt.show()"
   ]
  },
  {
   "cell_type": "markdown",
   "metadata": {},
   "source": [
    "# Evaluation"
   ]
  },
  {
   "cell_type": "code",
   "execution_count": 9,
   "metadata": {
    "execution": {
     "iopub.execute_input": "2025-08-24T15:36:01.385072Z",
     "iopub.status.busy": "2025-08-24T15:36:01.384804Z",
     "iopub.status.idle": "2025-08-24T16:43:27.161510Z",
     "shell.execute_reply": "2025-08-24T16:43:27.160753Z",
     "shell.execute_reply.started": "2025-08-24T15:36:01.385055Z"
    },
    "trusted": true
   },
   "outputs": [
    {
     "name": "stdout",
     "output_type": "stream",
     "text": [
      "Loading dataset paths...\n",
      "Loading CLIP model...\n"
     ]
    },
    {
     "name": "stderr",
     "output_type": "stream",
     "text": [
      "100%|███████████████████████████████████████| 244M/244M [00:08<00:00, 31.4MiB/s]\n",
      "Computing Embeddings: 100%|██████████| 4328/4328 [1:06:50<00:00,  1.08it/s]\n"
     ]
    },
    {
     "name": "stdout",
     "output_type": "stream",
     "text": [
      "Saving 276984 embeddings to /kaggle/working/image_embeddings.pkl...\n",
      "Pre-computation complete.\n"
     ]
    }
   ],
   "source": [
    "import torch\n",
    "import clip\n",
    "import os\n",
    "import pickle\n",
    "from PIL import Image\n",
    "from tqdm import tqdm\n",
    "\n",
    "DEVICE = \"cuda\" if torch.cuda.is_available() else \"cpu\"\n",
    "CACHE_FILE = \"/kaggle/working/shapenet_paths.pkl\"\n",
    "EMBEDDING_FILE = \"/kaggle/working/image_embeddings.pkl\"\n",
    "\n",
    "def precompute_image_embeddings():\n",
    "    if os.path.exists(EMBEDDING_FILE):\n",
    "        print(f\"Embeddings already exist at {EMBEDDING_FILE}. Skipping pre-computation.\")\n",
    "        return\n",
    "\n",
    "    print(\"Loading dataset paths...\")\n",
    "    if not os.path.exists(CACHE_FILE):\n",
    "        raise FileNotFoundError(\"Run get_dataloaders() once to create shapenet_paths.pkl.\")\n",
    "        \n",
    "    with open(CACHE_FILE, 'rb') as f:\n",
    "        all_items = pickle.load(f)\n",
    "\n",
    "    print(\"Loading CLIP model...\")\n",
    "    model, preprocess = clip.load(\"RN50\", device=DEVICE)\n",
    "    model.eval()\n",
    "\n",
    "    image_embeddings = {}\n",
    "    \n",
    "    # Process images in batches for efficiency\n",
    "    BATCH_SIZE = 64\n",
    "    all_paths = [item['image_path'] for item in all_items]\n",
    "\n",
    "    for i in tqdm(range(0, len(all_paths), BATCH_SIZE), desc=\"Computing Embeddings\"):\n",
    "        batch_paths = all_paths[i:i + BATCH_SIZE]\n",
    "        \n",
    "        # Load and preprocess batch of images\n",
    "        images = [preprocess(Image.open(path).convert('RGB')) for path in batch_paths]\n",
    "        image_batch = torch.stack(images).to(DEVICE)\n",
    "        \n",
    "        with torch.no_grad():\n",
    "            features = model.encode_image(image_batch)\n",
    "            features /= features.norm(dim=-1, keepdim=True)\n",
    "        \n",
    "        # Store results\n",
    "        for path, feature in zip(batch_paths, features):\n",
    "            image_embeddings[path] = feature.cpu() # Store on CPU to save GPU memory\n",
    "\n",
    "    print(f\"Saving {len(image_embeddings)} embeddings to {EMBEDDING_FILE}...\")\n",
    "    with open(EMBEDDING_FILE, 'wb') as f:\n",
    "        pickle.dump(image_embeddings, f)\n",
    "    print(\"Pre-computation complete.\")\n",
    "\n",
    "# Create image embeddings dictionary\n",
    "precompute_image_embeddings()"
   ]
  },
  {
   "cell_type": "code",
   "execution_count": 10,
   "metadata": {
    "execution": {
     "iopub.execute_input": "2025-08-24T05:48:35.756613Z",
     "iopub.status.busy": "2025-08-24T05:48:35.755887Z",
     "iopub.status.idle": "2025-08-24T05:48:35.767928Z",
     "shell.execute_reply": "2025-08-24T05:48:35.767220Z",
     "shell.execute_reply.started": "2025-08-24T05:48:35.756586Z"
    },
    "trusted": true
   },
   "outputs": [],
   "source": [
    "#----------- RGB2Point model ---------------\n",
    "\n",
    "import torch.nn as nn\n",
    "from torch.nn import MultiheadAttention\n",
    "import torch\n",
    "import timm\n",
    "class PointCloudGeneratorWithAttention(nn.Module):\n",
    "    def __init__(\n",
    "        self, input_feature_dim, point_cloud_size, num_heads=16, dim_feedforward=2048\n",
    "    ):\n",
    "        super(PointCloudGeneratorWithAttention, self).__init__()\n",
    "        print(f\"input_feature_dim:{input_feature_dim}\")\n",
    "        print(f\"dim_feedforward:{dim_feedforward}\")\n",
    "        print(f\"point_cloud_size:{point_cloud_size*3}\")\n",
    "        self.self_attention = MultiheadAttention(\n",
    "            embed_dim=input_feature_dim, num_heads=num_heads\n",
    "        )\n",
    "        self.linear_layers = nn.Sequential(\n",
    "            nn.Linear(input_feature_dim, dim_feedforward),\n",
    "            nn.LeakyReLU(0.2),\n",
    "            nn.Linear(dim_feedforward, dim_feedforward),\n",
    "            nn.LeakyReLU(0.2),\n",
    "            nn.Linear(\n",
    "                dim_feedforward, point_cloud_size * 3\n",
    "            ),  # Output layer for point cloud\n",
    "        )\n",
    "        self.point_cloud_size = point_cloud_size\n",
    "\n",
    "    def forward(self, x):\n",
    "        # x shape: [batch_size, seq_length, input_feature_dim]\n",
    "        # Transpose for the attention layer\n",
    "        x = x.transpose(0, 1)  # Shape: [seq_length, batch_size, input_feature_dim]\n",
    "\n",
    "        # Self-attention\n",
    "        attn_output, _ = self.self_attention(x, x, x)\n",
    "\n",
    "        # Transpose back\n",
    "        attn_output = attn_output.transpose(\n",
    "            0, 1\n",
    "        )  # Shape: [batch_size, seq_length, input_feature_dim]\n",
    "\n",
    "        # Pass through the linear layers\n",
    "        point_cloud = self.linear_layers(attn_output.flatten(start_dim=1))\n",
    "\n",
    "        # Reshape to (batch_size, point_cloud_size, 3)\n",
    "        point_cloud = point_cloud.view(-1, self.point_cloud_size, 3)\n",
    "        return point_cloud\n",
    "\n",
    "\n",
    "class PointCloudNet(nn.Module):\n",
    "    def __init__(self, num_views, point_cloud_size, num_heads, dim_feedforward, device):\n",
    "        super(PointCloudNet, self).__init__()\n",
    "        self.device = device\n",
    "        # Load the pretrained Vision Transformer model from timm\n",
    "        self.vit = timm.create_model(\n",
    "            \"vit_base_patch16_224\", pretrained=True, num_classes=0\n",
    "        )\n",
    "        self.vit.to(self.device)\n",
    "        for param in self.vit.parameters():\n",
    "            param.requires_grad = False\n",
    "        # Define the number of features from the ViT model\n",
    "        num_features = self.vit.num_features\n",
    "\n",
    "        # Aggregate features from different views\n",
    "        out_features = 1024 * 4\n",
    "        self.aggregator = nn.Linear(num_features, out_features)\n",
    "        # Point cloud generator with attention\n",
    "        self.point_cloud_generator = PointCloudGeneratorWithAttention(\n",
    "            input_feature_dim=out_features,\n",
    "            point_cloud_size=point_cloud_size,\n",
    "            num_heads=num_heads,\n",
    "            dim_feedforward=dim_feedforward,\n",
    "        )\n",
    "\n",
    "    def forward(self, x):\n",
    "        batch_size, num_views, C, H, W = x.shape\n",
    "\n",
    "        # Process all views in the batch\n",
    "        x = x.view(batch_size * num_views, C, H, W)\n",
    "\n",
    "        # Extract features from the views using ViT\n",
    "        with torch.no_grad():\n",
    "            features = self.vit(x)\n",
    "\n",
    "        # Reshape features back to separate views\n",
    "        features = features.view(batch_size, num_views, -1)\n",
    "\n",
    "        # Compute the mean of features from all views\n",
    "        mean_features = torch.mean(features, dim=1)\n",
    "\n",
    "        # Aggregate features\n",
    "        aggregated_features = self.aggregator(mean_features)\n",
    "        aggregated_features = aggregated_features.unsqueeze(1)\n",
    "\n",
    "        # Generate point cloud\n",
    "        point_cloud = self.point_cloud_generator(aggregated_features)\n",
    "\n",
    "        # Reshape to (batch_size, point_cloud_size, 3)\n",
    "        point_cloud = point_cloud.view(batch_size, -1, 3)\n",
    "\n",
    "        return point_cloud"
   ]
  },
  {
   "cell_type": "markdown",
   "metadata": {},
   "source": [
    "# evaluate.py"
   ]
  },
  {
   "cell_type": "code",
   "execution_count": 12,
   "metadata": {
    "execution": {
     "iopub.execute_input": "2025-08-24T17:23:25.756518Z",
     "iopub.status.busy": "2025-08-24T17:23:25.755687Z",
     "iopub.status.idle": "2025-08-24T17:23:25.771114Z",
     "shell.execute_reply": "2025-08-24T17:23:25.770286Z",
     "shell.execute_reply.started": "2025-08-24T17:23:25.756494Z"
    },
    "trusted": true
   },
   "outputs": [],
   "source": [
    "import os\n",
    "import json\n",
    "import torch\n",
    "from tqdm import tqdm\n",
    "import kaolin.metrics.pointcloud as pc_metrics\n",
    "import clip\n",
    "import pickle\n",
    "from PIL import Image\n",
    "\"\"\"\n",
    "from dataset import transform\n",
    "from model import Image2PCgen\n",
    "from dataset import get_dataloaders\n",
    "\"\"\"\n",
    "\n",
    "EMBEDDING_FILE = \"/kaggle/working/image_embeddings.pkl\"\n",
    "\n",
    "CATEGORY_NAMES = {\n",
    "    '02691156': 'Airplane',\n",
    "    '02958343': 'Car'\n",
    "}\n",
    "\n",
    "def evaluate_model(model, test_loader, device, model_name, results_file=\"results.json\"):\n",
    "   \n",
    "    model.eval()\n",
    "    category_metrics = {cat: {\"cd\": [], \"fscore\": []} for cat in CATEGORY_NAMES.keys()}\n",
    "\n",
    "    with torch.no_grad():\n",
    "        for batch_idx, (images, pcs) in enumerate(tqdm(test_loader, desc=f\"Evaluating {model_name}\")):\n",
    "            pcs = pcs.to(device)\n",
    "\n",
    "            # Handle PointCloudNet (needs [B, num_views, C, H, W])\n",
    "            if model.__class__.__name__ == \"PointCloudNet\":\n",
    "                images = images.unsqueeze(1)\n",
    "\n",
    "            images = images.to(device)\n",
    "            preds = model(images).float()  # (B, N, 3)\n",
    "\n",
    "            # Metrics per sample\n",
    "            cd_vals = pc_metrics.chamfer_distance(preds, pcs)  # (B,)\n",
    "            f_vals = pc_metrics.f_score(pcs, preds, radius=0.01)  # (B,)\n",
    "\n",
    "            # Map results to categories for this batch\n",
    "            start_idx = batch_idx * test_loader.batch_size\n",
    "            for i in range(len(images)):\n",
    "                global_idx = test_loader.dataset.indices[start_idx + i]  \n",
    "                cat_id = test_loader.dataset.dataset.items[global_idx]['category']\n",
    "                if cat_id in category_metrics:\n",
    "                    category_metrics[cat_id]['cd'].append(cd_vals[i].item())\n",
    "                    category_metrics[cat_id]['fscore'].append(f_vals[i].item())\n",
    "\n",
    "    # --- Average per category ---\n",
    "    results = {}\n",
    "    for cat_id, metrics in category_metrics.items():\n",
    "        if len(metrics['cd']) == 0:\n",
    "            continue\n",
    "        results[CATEGORY_NAMES[cat_id]] = {\n",
    "            \"Chamfer\": sum(metrics['cd']) / len(metrics['cd']),\n",
    "            \"F-score\": sum(metrics['fscore']) / len(metrics['fscore']),\n",
    "        }\n",
    "\n",
    "    # --- Save results ---\n",
    "    all_results = {}\n",
    "    if os.path.exists(results_file):\n",
    "        with open(results_file, 'r') as f:\n",
    "            all_results = json.load(f)\n",
    "    all_results[model_name] = results\n",
    "    with open(results_file, 'w') as f:\n",
    "        json.dump(all_results, f, indent=4)\n",
    "\n",
    "    print(f\"Saved {model_name} results to {results_file}\")\n",
    "    return results\n",
    "\n",
    "\n",
    "def retrieve_best_image(prompt: str, device: torch.device):\n",
    "\n",
    "    if not os.path.exists(EMBEDDING_FILE):\n",
    "        print(f\"Error: Embeddings file not found at {EMBEDDING_FILE}.\")\n",
    "        return None\n",
    "    \n",
    "    # Load Pre-computed Image Embeddings\n",
    "    with open(EMBEDDING_FILE, 'rb') as f:\n",
    "        image_embeddings_dict = pickle.load(f)\n",
    "    \n",
    "    image_paths = list(image_embeddings_dict.keys())\n",
    "    image_features = torch.stack(list(image_embeddings_dict.values())).to(device)\n",
    "\n",
    "    # Load CLIP Model (only the text encoder)\n",
    "    model, _ = clip.load(\"RN50\", device=device)\n",
    "    model.eval()\n",
    "\n",
    "    # Encode Text Prompt\n",
    "    text = clip.tokenize([prompt]).to(device)\n",
    "    with torch.no_grad():\n",
    "        text_features = model.encode_text(text)\n",
    "    text_features /= text_features.norm(dim=-1, keepdim=True) # Normalize\n",
    "\n",
    "    # Calculate Cosine Similarity\n",
    "    # (Text Feature: 1 x D) @ (Image Features: N x D).T -> 1 x N\n",
    "    similarities = (text_features @ image_features.T).squeeze(0)\n",
    "    \n",
    "    # Find the Best Match\n",
    "    best_idx = similarities.argmax().item()\n",
    "    best_image_path = image_paths[best_idx]\n",
    "    best_similarity = similarities[best_idx].item()\n",
    "    \n",
    "    return best_image_path\n",
    "\n",
    "\n",
    "def text_inference(model, device, prompt: str):\n",
    "\n",
    "    model.eval()\n",
    "    best_image_path = retrieve_best_image(prompt, device)\n",
    "    image = Image.open(best_image_path).convert('RGB')\n",
    "    image_tensor = transform(image).unsqueeze(0).to(device) \n",
    "    with torch.no_grad():\n",
    "        preds = model(image_tensor).float()  # (1, N, 3)\n",
    "    \n",
    "    return preds"
   ]
  },
  {
   "cell_type": "code",
   "execution_count": 14,
   "metadata": {
    "execution": {
     "iopub.execute_input": "2025-08-24T05:56:58.748008Z",
     "iopub.status.busy": "2025-08-24T05:56:58.747710Z",
     "iopub.status.idle": "2025-08-24T06:07:27.452221Z",
     "shell.execute_reply": "2025-08-24T06:07:27.451352Z",
     "shell.execute_reply.started": "2025-08-24T05:56:58.747963Z"
    },
    "trusted": true
   },
   "outputs": [
    {
     "name": "stdout",
     "output_type": "stream",
     "text": [
      "Loading dataset file paths from cache...\n",
      "Loaded 276984 samples from cache.\n",
      "Total number of samples: 276984\n",
      "Training samples: 193888\n",
      "Validation samples: 55396\n",
      "Test samples: 27700\n"
     ]
    },
    {
     "name": "stderr",
     "output_type": "stream",
     "text": [
      "Evaluating Image2PCgen-(ours): 100%|██████████| 866/866 [10:26<00:00,  1.38it/s]"
     ]
    },
    {
     "name": "stdout",
     "output_type": "stream",
     "text": [
      "Saved Image2PCgen-(ours) results to /kaggle/working/results.json\n"
     ]
    },
    {
     "name": "stderr",
     "output_type": "stream",
     "text": [
      "\n"
     ]
    }
   ],
   "source": [
    "#----------- Evaluation: Our Model -------------\n",
    "\n",
    "device = torch.device('cuda' if torch.cuda.is_available() else 'cpu')\n",
    "_, _, test_loader = get_dataloaders()\n",
    "model = Image2PCgen(num_points=1024).to(device)\n",
    "checkpoint = torch.load(\"/kaggle/working/best_checkpoint.pth\", map_location=device)\n",
    "model.load_state_dict(checkpoint[\"model_state_dict\"])\n",
    "\n",
    "# Run evaluation\n",
    "results = evaluate_model(\n",
    "    model=model,\n",
    "    test_loader=test_loader,\n",
    "    device=device,\n",
    "    model_name=\"Image2PCgen-(ours)\",\n",
    "    results_file=\"/kaggle/working/results.json\"\n",
    ")"
   ]
  },
  {
   "cell_type": "code",
   "execution_count": 15,
   "metadata": {
    "execution": {
     "iopub.execute_input": "2025-08-24T06:08:00.951128Z",
     "iopub.status.busy": "2025-08-24T06:08:00.950341Z",
     "iopub.status.idle": "2025-08-24T06:14:01.570107Z",
     "shell.execute_reply": "2025-08-24T06:14:01.569270Z",
     "shell.execute_reply.started": "2025-08-24T06:08:00.951099Z"
    },
    "trusted": true
   },
   "outputs": [
    {
     "name": "stdout",
     "output_type": "stream",
     "text": [
      "Loading dataset file paths from cache...\n",
      "Loaded 276984 samples from cache.\n",
      "Total number of samples: 276984\n",
      "Training samples: 193888\n",
      "Validation samples: 55396\n",
      "Test samples: 27700\n",
      "input_feature_dim:4096\n",
      "dim_feedforward:2048\n",
      "point_cloud_size:3072\n"
     ]
    },
    {
     "name": "stderr",
     "output_type": "stream",
     "text": [
      "Evaluating RGB2Point: 100%|██████████| 866/866 [05:52<00:00,  2.45it/s]"
     ]
    },
    {
     "name": "stdout",
     "output_type": "stream",
     "text": [
      "Saved RGB2Point results to /kaggle/working/results.json\n"
     ]
    },
    {
     "name": "stderr",
     "output_type": "stream",
     "text": [
      "\n"
     ]
    }
   ],
   "source": [
    "#----------- Evaluation: RGB2Point -------------\n",
    "\n",
    "device = torch.device('cuda' if torch.cuda.is_available() else 'cpu')\n",
    "_, _, test_loader = get_dataloaders()\n",
    "model = PointCloudNet(num_views=1, point_cloud_size=1024, num_heads=4, dim_feedforward=2048, device=device)\n",
    "model.load_state_dict(torch.load(\"/kaggle/input/rgb2point/pc1024_three.pth\")[\"model\"])\n",
    "model.to(device)\n",
    "\n",
    "# Run evaluation\n",
    "results = evaluate_model(\n",
    "    model=model,\n",
    "    test_loader=test_loader,\n",
    "    device=device,\n",
    "    model_name=\"RGB2Point\",\n",
    "    results_file=\"/kaggle/working/results.json\"\n",
    ")"
   ]
  },
  {
   "cell_type": "code",
   "execution_count": 17,
   "metadata": {
    "execution": {
     "iopub.execute_input": "2025-08-24T17:44:15.592400Z",
     "iopub.status.busy": "2025-08-24T17:44:15.592103Z",
     "iopub.status.idle": "2025-08-24T17:44:44.350204Z",
     "shell.execute_reply": "2025-08-24T17:44:44.349490Z",
     "shell.execute_reply.started": "2025-08-24T17:44:15.592378Z"
    },
    "trusted": true
   },
   "outputs": [
    {
     "name": "stdout",
     "output_type": "stream",
     "text": [
      "\n",
      "Plotting the generated point cloud...\n"
     ]
    },
    {
     "data": {
      "text/html": [
       "<html>\n",
       "<head><meta charset=\"utf-8\" /></head>\n",
       "<body>\n",
       "    <div>            <script src=\"https://cdnjs.cloudflare.com/ajax/libs/mathjax/2.7.5/MathJax.js?config=TeX-AMS-MML_SVG\"></script><script type=\"text/javascript\">if (window.MathJax && window.MathJax.Hub && window.MathJax.Hub.Config) {window.MathJax.Hub.Config({SVG: {font: \"STIX-Web\"}});}</script>                <script type=\"text/javascript\">window.PlotlyConfig = {MathJaxConfig: 'local'};</script>\n",
       "        <script charset=\"utf-8\" src=\"https://cdn.plot.ly/plotly-2.35.2.min.js\"></script>                <div id=\"498504e0-c513-4608-872a-055679cb74dd\" class=\"plotly-graph-div\" style=\"height:525px; width:100%;\"></div>            <script type=\"text/javascript\">                                    window.PLOTLYENV=window.PLOTLYENV || {};                                    if (document.getElementById(\"498504e0-c513-4608-872a-055679cb74dd\")) {                    Plotly.newPlot(                        \"498504e0-c513-4608-872a-055679cb74dd\",                        [{\"marker\":{\"color\":\"blue\",\"opacity\":0.8,\"size\":1.5},\"mode\":\"markers\",\"x\":[0.07226807,0.042078037,-0.109311506,0.045366593,0.012101895,0.050823245,0.054021176,-0.21324676,0.05829895,0.04461602,-0.1168711,0.041373532,0.106640294,-0.08898424,-0.10817106,0.0466328,0.06547896,-0.12190929,0.06559285,0.059420314,0.04791645,0.064614765,-0.08238052,-0.10023926,0.06508538,0.07485894,-0.068872556,-0.10370052,-0.102184586,-0.02008092,0.05128844,0.042649455,0.045065675,-0.076143175,-0.2727551,-0.037970085,-0.11633915,0.05392177,0.0405078,0.07750583,0.09251864,-0.16101801,-0.036872376,0.057225708,0.06803817,-0.025413718,0.043165717,-0.1161706,0.061894126,0.06980656,-0.105415724,-0.094087586,0.046089627,0.06712422,0.04207605,0.10941993,0.054452796,0.0582905,0.043660548,0.041251983,0.0515593,0.02067231,0.07314745,0.07357687,0.030872531,-0.08062831,0.06322658,-0.014720713,-0.12023696,0.035962377,0.058999795,0.07335341,0.07067242,0.048459724,-0.022404999,-0.056625362,0.107268274,-0.13018116,0.058118712,0.038209964,-0.06916795,0.076639324,0.047092393,0.080696344,-0.11096357,-0.17591688,0.092493325,0.07931585,0.035775203,0.04888179,0.11428584,0.060244087,0.052369613,0.040445082,-0.09356467,0.12515393,-0.064574644,0.0115285395,0.053824287,0.058263358,-0.09692487,0.1083186,0.052924436,-0.06879878,0.03461602,-0.1526176,-0.11119962,-0.2615053,0.07240272,-0.1534893,-0.111277565,-0.21099147,-0.05914026,0.09501611,-0.1279838,0.06382629,0.059659578,-0.070059806,0.04725712,0.047905285,0.013904261,-0.1596739,0.063185476,-0.20420063,0.05733173,0.046808887,-0.10979463,0.04600247,0.0473137,0.04477995,0.059418008,0.06812826,-0.045955442,0.06573241,0.06488658,0.05149241,0.05293987,0.075644754,-0.016920343,-0.1324721,0.04478938,0.04134745,-0.11140289,0.09828575,0.042573888,0.059467763,0.06009265,-0.07059939,-0.1065306,0.057277728,-0.17398976,-0.111245535,0.05953607,-0.19282791,0.037167624,-0.103123866,0.043377947,0.04138978,0.06294601,-0.1016701,-0.06641097,0.08997144,-0.12061754,0.045186106,0.036711473,-0.2989087,0.004585619,0.06147418,0.017275382,0.057023782,0.091162845,0.072079845,0.15635923,0.0687855,-0.10638352,-0.06175031,0.05250531,-0.012647544,0.07007809,-0.024411358,-0.098436624,0.06087321,-0.0056755478,0.056638967,-0.0020887284,0.059122983,0.068251245,-0.17987432,-0.076866314,0.06763458,-0.09906609,0.04214385,0.057454135,-0.064529374,0.06176395,-0.00015858933,-0.11822638,-0.052391548,0.05750528,0.11884132,0.052671026,-0.20150031,0.040059123,-0.051626746,0.019134486,-0.15128879,-0.13407925,-0.13410962,0.09133933,0.06382128,-0.07800138,0.036531746,0.07922418,0.021886226,0.05357026,-0.037783917,0.050462272,-0.078580216,0.06898524,0.052620772,0.04567021,0.0857342,0.011496072,0.049002845,-0.0072010467,0.053245995,0.03458542,0.08351014,0.05044555,-0.04532264,0.041224506,0.0017609242,0.048837025,-0.10515021,-0.08682453,0.06542982,0.026707927,0.052668363,0.07133603,-0.14449203,0.07773022,-0.084848315,-0.09215251,0.042259324,-0.11291939,-0.07664833,-0.14496437,0.04127521,0.06104541,-0.017369922,0.045132775,-0.031066667,0.040439032,-0.09034135,0.04263172,-0.11621685,-0.094878435,-0.017339658,-0.13040775,0.0034063216,0.061917197,-0.11795288,0.03522267,0.038465284,-0.08143068,-0.12001948,0.06585874,-0.2501827,0.05746629,-0.059891287,0.040870268,-0.030388217,0.045385595,-0.12015726,0.0483549,-0.16823469,0.046608586,-0.09835408,0.08646266,-0.09879717,-0.052587222,-0.07231661,0.052333612,0.07330557,0.035977382,-0.043685596,-0.076153025,0.06343011,-0.10855617,0.048198063,-0.082655445,-0.07326858,-0.10046555,-0.10463034,-0.024231445,0.029316533,0.062250648,0.05166955,-0.071403265,0.04601767,-0.12155022,0.0032273857,-0.18508478,0.0022838982,-0.11577594,0.063399665,0.05352041,0.042744607,0.06702371,-0.12009163,0.071339965,0.037154615,-0.11787562,0.04449104,-0.06911467,0.035703667,0.10792744,0.05104589,0.05108538,0.09892562,-0.080123775,-0.10110361,0.057430938,0.088338956,0.07373607,-0.16915068,0.06983589,-0.09353987,0.06037912,0.042843644,0.044956807,0.08560913,-0.13814746,-0.16371524,0.04881806,0.04918613,0.060929354,0.068138786,-0.09381559,0.07036417,-0.049217116,0.045890577,0.016856048,-0.11828847,0.102292776,0.090563074,-0.14126655,0.059656817,0.08483818,0.057646584,0.048925307,0.049342368,-0.10429487,-0.115848586,-0.0035403557,-0.043013167,0.07188631,-0.14433339,-0.14550494,0.051672105,0.048278306,-0.1234038,0.037331015,-0.101158544,-0.038666468,0.09474575,-0.12912214,-0.16834319,-0.21633357,0.046929706,0.04286483,0.08939865,0.06628103,0.06436302,0.05955323,0.085620195,0.08838157,0.047319077,0.0144929355,-0.113460675,0.07942763,0.08166713,-0.2629853,0.05842443,-0.051881697,-0.11175766,-0.112716004,0.06327274,0.034422856,0.038548816,-0.119864464,0.070072055,-0.0032861512,0.048866633,0.031783685,0.04864064,0.06568322,0.052016888,0.056882147,-0.09840523,-0.019759845,0.07360343,0.053406965,0.03693313,0.048587862,0.04443283,0.044511933,0.059002865,-0.08540071,-0.09587435,0.056222215,-0.09328956,-0.051251847,0.05335062,0.070998706,0.068254545,0.081656545,0.06318335,0.06962435,-0.050578494,0.05151501,0.11246107,0.07421714,0.074982,-0.14825596,0.04072248,0.052536584,0.06289664,-0.01575835,-0.15296017,-0.10958868,0.04410911,0.0617665,-0.09975624,0.022070765,0.05872238,0.035892136,-0.052011263,-0.09944807,-0.07391505,0.06203525,-0.07287067,-0.13114116,0.12034928,0.028635297,-0.20366165,0.055792768,-0.07563703,0.0635118,-0.019463588,-0.0993293,0.13080128,-0.003656556,-0.026631124,-0.08115057,0.057923302,0.05153753,0.03830335,0.048767194,0.067181885,-0.09765406,0.041688405,0.0083732605,-0.031714905,-0.20764732,0.03331416,-0.16010666,-0.11781287,0.08408853,-0.093312286,0.106157966,0.03877799,-0.02429156,0.07172179,0.04830143,0.0687489,0.038115468,-0.2070928,0.044018246,-0.03819957,0.056350183,-0.008674919,0.03693135,0.046622068,-0.17090695,0.052713227,0.052911203,-0.10469921,-0.10572906,0.043050762,0.031036738,-0.11275286,0.06164592,0.08381837,0.06482249,0.018362321,-0.00710952,0.053150367,-0.08652146,-0.11222515,0.03509157,0.050781306,-0.10831366,0.04701337,0.060106672,0.06947995,0.04628752,0.036791928,-0.15979539,0.067003876,-0.09622662,0.043927174,0.05059407,0.05721372,0.08573165,-0.008420055,0.02159902,-0.04484617,-0.013354515,0.10094299,0.04702618,0.05147216,-0.12941486,-0.010963152,0.057108086,0.06030615,-0.10918473,0.053597923,0.06472892,0.07457713,0.056026734,0.08181176,0.048167694,0.06233508,0.035934947,0.05385081,-0.10443229,-0.117894724,-0.17162506,-0.22973087,-0.08692772,-0.16287164,0.04544284,0.061839238,0.0677264,-0.085798725,-0.082617976,0.062859654,0.11404138,-0.05851439,-0.070559315,0.035807185,0.024193646,-0.110794134,-0.15669578,-0.035585817,-0.059652787,0.011109547,0.04279244,-0.16790894,-0.30790064,0.054315664,-0.11002436,-0.26799768,-0.08457096,-0.069826305,0.044240274,0.05145147,-0.0259097,0.055997677,0.011943832,0.055449184,0.056493845,0.06418844,0.044331554,0.01747073,-0.10434346,-0.024339557,0.053442996,0.042247206,0.05641545,0.051668357,0.044332605,0.05766389,-0.09002429,0.06969976,-0.10096104,0.042161856,0.034954883,-0.20405045,0.04331305,0.06934928,0.046529286,-0.04053658,0.09667677,-0.1756345,-0.10973668,0.056443024,0.057509847,0.07470585,0.06121817,-0.0612599,0.10524805,0.07874946,-0.30722097,-0.02069977,-0.2451311,-0.107507706,0.0661204,0.09560315,-0.098753,0.06821113,0.057010926,-0.10502544,-0.10253655,0.0820885,0.009626939,-0.050318375,0.07092695,-0.17366156,-0.14463478,0.08184814,0.0638634,0.07492597,-0.12230772,0.049747508,-0.11362176,-0.077152275,0.06588898,0.03764205,0.07282175,-0.11171289,0.06423675,0.042849228,0.03114092,0.044313062,0.062465403,0.058932748,-0.1979787,0.07718387,0.051444594,0.0030117203,0.078704566,-0.12606063,0.038152605,-0.09344378,0.069821306,0.037659217,0.038081847,0.03721161,-0.1505239,-0.040640995,-0.09567806,0.05245283,0.059910502,-0.12278676,0.06572701,0.07613678,0.047142435,-0.08653396,0.03621351,0.059193574,0.073294476,-0.0135671245,0.008092839,0.042581636,0.07699008,-0.054466758,0.033710163,0.045384757,0.07805437,0.044622194,0.07395874,0.1281219,0.061600585,0.10618236,0.03461277,-0.12412006,-0.0936441,0.10217024,0.058841385,0.04664029,-0.11225769,0.04813745,0.11082906,0.11171024,0.061357077,-0.051863533,-0.06509833,0.02283911,-0.114090204,0.064181104,0.028800797,0.034893043,-0.18520683,-0.05855191,-0.15721607,-0.11618139,0.06401686,0.11827563,0.044649404,0.044657905,0.03926728,-0.0074063214,-0.03358199,-0.08878966,0.06736855,0.053644154,0.0783779,0.12506732,-0.04859665,-0.08852413,0.061585806,-0.111393094,-0.091085054,0.07922811,0.08643034,-0.045708332,-0.07664451,-0.10809019,0.045519937,0.08596239,-0.014507358,0.052376635,0.036795802,0.049134903,0.004993803,0.06265256,0.03869536,0.07243714,0.09581495,-0.039220147,-0.04656012,0.05231141,0.08859016,0.080842584,0.060589988,0.08124781,0.05990986,0.04679207,0.053583648,0.10276903,-0.14870843,-0.0164584,0.04500374,0.005662839,-0.1189331,-0.13998546,0.05694134,-0.1102128,0.05244549,0.055857852,-0.14920396,0.039240338,0.07436135,0.084500104,-0.08468745,-0.049659368,0.04897781,0.057828043,0.070171684,-0.07174139,-0.087677464,0.07901807,0.087039456,0.044805277,0.035558924,0.045581013,0.10577285,-0.019935612,0.089600846,0.07016147,0.09754984,0.046315588,0.063576385,0.088074386,0.04188698,0.043456204,-0.09844824,-0.049622733,0.07666404,0.0540127,0.061981425,-0.13588947,0.08297156,-0.01317484,0.062901445,0.06271699,0.0746009,-0.106493086,-0.18483923,0.0073710848,0.051348664,-0.11085002,0.0361057,0.09417381,0.034066465,0.04302533,0.08294976,0.054661773,0.04390237,-0.14331508,0.062294643,0.014233298,0.048951317,-0.05320325,0.0665496,0.08975484,0.02441343,0.038179893,-0.1057835,-0.022745498,-0.0057949545,0.096019484,-0.23029946,0.028904572,0.0044379113,0.052423898,0.071829274,0.06909489,0.052869055,0.044487037,-0.076161146,0.054985058,0.06184789,0.058403384,-0.10590944,0.044313107,0.019395191,-0.083994426,0.060261283,-0.11994311,0.07766647,0.06413059,0.050255176,0.062276725,0.051027026,-0.016673084,0.0778546,0.050893877,0.050218146,-0.0698918,0.070735954,-0.087338835,0.07791106,-0.12802577,0.07325058,0.045861203,0.0526519,-0.0349285,0.037443757,0.052203376,0.04308991,-0.10632578,-0.062253345,0.043758836,0.05985839,-0.09034105,0.071925916,-0.13721088,-0.14882816,0.037904058,0.035320524,0.07875115,-0.14025119,0.041442797,-0.07029351,-0.01891739,0.052941885,-0.05191539,0.046600223,0.08153601,0.036832925,-0.08882316,-0.11160116,0.07194424,0.058679916,0.037236344,0.09929846,0.1013462,-0.12401238,0.06376246,-0.03624999,0.12868486,0.076130345,0.06733275,0.06928627,-0.11651263,-0.0805762,-0.10783621,-0.06854564,0.04966137,0.068594076,0.07078489,0.08575733,-0.121247634,-0.10913467,0.039164007,-0.024672378,0.0603197,0.046435956,0.05352622,0.048694532,0.054174796,0.056128886,0.046497513,0.09905372,0.0644337,0.064362526,0.035826284,0.08753913,0.069242544,-0.12660763,-0.24343723,-0.062642194,0.054248516,0.04874054,0.123843305,0.060435843,-0.14220656,0.048593573,0.13391984,-0.10840341,-0.061978992,0.08349599,0.0047705844,-0.1292701,0.056610603,0.048121642,0.038464274,-0.12844673,-0.020166066,0.039784506,0.06842674,0.07463429,-0.09797147,0.051923435,0.040308308,-0.0706604,-0.09944157,0.03573874,0.042236958,-0.11613907,0.091030166,0.005595367,0.038259912,0.058959555,-0.11815429,-0.09513247,0.016010463,0.038122766,-0.1071005,-0.10295321,0.044885784,0.10026131,-0.10005197,0.06968737,-0.01614635,-0.026109286,-0.068461776,0.03610025,-0.02028403,-0.010913779,0.06674001,0.08688007,0.04894495,0.034189966,0.11652914,0.044236124,-0.053462256,-0.02043124,0.03811303,-0.09374368,0.056091163,-0.10681884,0.036930513,0.06715124,-0.056999635,0.074998654,0.064529106,0.07135628,0.08396968,0.06151144,0.06628025,-0.13872024,0.038387243,0.044257462,0.06290819,0.054102954,0.047646757,0.07941662,0.053068396,0.071195275,0.03746243,0.012416089,0.06369497,0.06549243,-0.09359426,0.054991923,-0.102207616,-0.10715673,0.046885792,-0.124326736,0.043030635,-0.1176299,0.11462653,0.082890905,0.045284107,0.05515744,0.070481025,0.042122524,0.070143834,0.013978439,0.05196304,0.032389097,0.11188266,0.044470776,-0.03246183,0.099942386,0.04592004,0.045319643,0.045628212,-0.10219173,0.083679676],\"y\":[0.26259118,-0.7130813,-0.051925875,0.59349936,-0.13004893,0.4272159,-0.28464282,-0.04474008,0.16046871,0.9909517,0.045196086,-0.5497428,-0.01590704,-0.04115181,0.020837288,-0.5032719,-0.022531236,-0.032057613,0.07421402,-0.34574294,0.0039852695,0.07835396,0.013500156,-0.016988674,0.29516667,-0.20070143,-0.055300653,-0.08580769,0.11883918,0.05589678,-0.47886622,0.85494554,0.8259379,0.040010706,0.003894364,0.056124963,-0.12452225,-0.37608522,-0.6617638,0.025323493,0.054338,0.0016323109,-0.02292371,-0.1844855,-0.21549942,0.054335423,-0.0143415015,-0.03942432,0.34221804,0.10978418,0.17442687,0.0050219116,0.73480135,-0.27550682,-0.52261263,-0.015394593,-0.430844,0.3813041,0.7297079,-0.035125818,0.41243985,-0.073085584,0.18604971,-0.19025375,-0.09985622,-0.044810094,0.37945145,0.0667446,0.0016312194,-0.90992975,0.393583,0.226915,-0.02158259,-0.10240932,-0.05306694,0.058160998,0.0043854634,0.00037099188,0.4833245,-0.7820221,-0.056050137,-0.005063523,0.6972296,-0.10298053,0.05155897,0.0074542477,0.025441924,0.035942413,-0.8590102,-0.2219748,0.024411933,0.06128414,0.37065282,0.009759458,-0.05700294,0.08416179,-0.05007664,0.04910952,0.04112113,0.1822804,0.10078494,0.006895932,0.5518698,-0.095071904,0.03616184,0.19080237,0.121420674,0.0023651454,0.25821212,0.02040555,-0.10306313,-0.053973872,0.05787474,0.05388816,0.18839884,0.2219741,-0.13544679,-0.19563572,0.5144356,0.68130046,-0.06300582,0.0019349619,-0.23891416,0.03213858,0.04829194,0.63462746,-0.13988869,0.03594408,0.61881113,0.93364805,-0.3761819,0.016220484,-0.06039889,-0.27269185,0.2516581,0.5458868,0.47593075,-0.20288967,-0.071943074,-0.022407273,-0.5862788,-0.7040099,0.051966164,0.061751,-0.5520199,-0.27349144,0.31483757,0.03985843,-0.0142595675,-0.33243757,0.003041062,-0.033491354,0.2960829,0.14610487,-0.78438824,0.026699463,-0.5910397,-0.6664375,-0.2797171,0.15075421,-0.05377633,-0.036036015,-0.021315996,0.7884964,-0.90005636,0.0014373134,-0.04511789,0.43199036,0.075479455,0.45037735,-0.01669177,-0.20971699,0.0133994315,-0.23107426,0.018105702,-0.13750987,-0.4046402,-0.024915982,-0.09139487,0.062089764,-0.056557998,0.4046101,-0.05343178,-0.37974957,0.0316993,0.27818313,-0.19649799,0.01680665,0.054700114,-0.16400181,-0.032566376,-0.63460135,0.50823706,-0.02876967,-0.310395,0.03394816,-0.19708459,0.06130419,0.41486812,0.012495076,0.39783734,0.00475366,0.074116446,0.059246972,0.048503365,-0.020372683,0.02399272,-0.009829339,0.1254515,-0.05532536,0.04774052,-0.07143117,0.12374083,0.03610272,-0.20595627,-0.05988151,0.08489005,-0.0170136,0.2666681,0.16041902,0.7055812,-0.014406618,-0.05429956,0.4731915,0.05008322,0.5012943,0.09777936,-0.07886752,-0.42924544,-0.03672793,-0.50123215,-0.016450936,0.06795331,-0.07239144,0.0688956,0.29344136,-0.04788576,0.08242746,-0.13654236,0.03621991,0.19860512,-0.04664241,-0.00382888,0.010335585,0.019291347,0.053225406,0.033747472,-0.6188961,0.018703824,0.052870404,0.78913313,-0.17548381,-0.5699304,-0.019859513,0.9565619,-0.045176663,0.02608597,-0.039092544,0.0050251023,0.061707653,-0.060659703,0.071364105,-0.84522516,-0.705174,0.0016924408,-0.032041725,-0.056222457,0.080884516,-0.3152296,-0.07294504,-0.752378,-0.049051408,-0.40154755,0.003265235,0.5563552,0.0049863462,-0.51221997,0.0032456177,-0.06932464,-0.0523374,0.056766942,-0.03699589,0.57308537,-0.14460416,-0.8864032,0.15521973,-0.059222817,0.41669524,-0.0920748,0.5256185,0.035845287,0.18417457,0.052145813,0.22178076,-0.05456054,0.0032586926,0.022436114,-0.3617859,-0.0617984,0.80025584,0.11335108,0.014844835,-0.02689504,-0.02632427,-0.15733817,0.38664907,0.5685944,0.7421314,-0.16582339,-0.24179678,0.28902292,-0.8098362,-0.18633963,0.08095727,0.0031838869,-0.8460406,0.013481462,0.638842,-0.4420156,-0.037688132,-0.013137804,0.2787238,0.49704993,0.061939865,0.22293554,-0.0035367128,-0.052641537,-0.016757116,0.062593624,0.7201325,0.89902836,0.043288894,-0.026825655,0.004863584,0.59213185,-0.03343387,-0.21164118,0.050580576,0.048167028,0.1944851,-0.0066293166,0.5314567,-0.0073591867,-0.17265724,-0.0392533,-0.0135984365,0.008816296,-0.15167002,-0.1353272,0.4583417,0.58243877,0.08913825,0.032169398,-0.06141922,0.04363951,-0.059477717,-0.004667438,0.024848366,-0.029581992,0.58578783,0.6782479,-0.17575021,-0.7915885,-0.08749985,0.0562224,-0.025825374,0.03041835,0.008499792,0.005521621,0.72830474,-0.47340077,-0.023230402,-0.16058095,0.1833143,-0.27602416,-0.036618855,0.009792419,-0.37386328,-0.06568168,0.016624687,0.028352806,0.046327263,0.004912021,-0.3706718,-0.07487517,-0.02377223,-0.040963866,0.18634447,0.16474774,-0.6455076,0.047242127,0.32376552,0.061465457,0.61121756,-0.02927771,0.5630989,-0.15745237,0.49658495,0.13162409,-0.042257596,-0.04906267,-0.05455509,0.46014482,-0.65515417,-0.48327875,-0.60477185,0.7855216,-0.3506074,-0.026251988,0.025296072,0.36032748,-0.050559636,0.043070436,-0.07999382,-0.21649891,-0.0028403946,-0.20239082,-0.25219682,-0.14209297,0.0366852,-0.24080902,-0.0066278526,-0.064460024,0.19857769,-0.003073853,-0.59748966,0.5380519,-0.39027196,-0.06573458,0.055773817,-0.039564997,-0.5725414,0.46695033,0.04699941,0.115545794,0.063558534,-0.753342,0.035977475,0.008982541,0.054152623,-0.15811251,-0.05379778,0.011497024,0.010769505,0.05776014,0.003906734,0.20418882,0.061838567,0.25547007,0.052375264,0.22517534,0.0070787226,0.06143435,0.0558957,0.033874832,0.19790956,-0.113386415,-0.59182626,0.46922493,0.1988421,0.13234966,-0.07192426,-0.0581697,0.047500424,0.005620222,-0.93514603,-0.0029318766,-0.13202155,-0.021459794,0.053606935,0.018950937,-0.7094793,-0.0041756644,-0.10336174,0.57616204,0.3108807,-0.72221625,-0.113834314,0.8980385,0.02198818,0.26101232,0.059451565,0.018732985,0.6357158,-0.14627424,-0.4987095,-0.43936062,0.26249233,-0.022707405,-0.5189816,-0.0687754,-0.117598966,-0.1963035,0.15311776,-0.30877596,-0.050443165,-0.04855934,0.598816,0.03342499,-0.033085033,-0.87256044,-0.41642147,0.02481796,-0.044921137,-0.034150064,0.15049304,-0.5535608,-0.781101,0.101334326,-0.15563594,0.020256508,0.74234515,-0.3720627,-0.3656242,0.1098006,0.042089667,-0.055187225,0.06506861,0.059457228,0.043009154,-0.39921793,-0.22839658,0.0426918,0.073521286,0.43432757,0.3572376,0.09888117,-0.16584693,0.36117384,0.12034752,0.16313574,-0.050087065,-0.314682,0.042501457,-0.84430534,0.06693229,0.07631209,0.047903754,0.0020911912,0.0069035483,-0.044634014,-0.2229132,0.113775976,0.35139722,-0.2624135,0.046185117,0.053993244,-0.31947342,-0.012964876,-0.05927787,-0.028982542,-0.9340874,-0.052363567,0.027544336,0.0078618135,0.06091182,-0.062517814,-0.06393273,-0.024194531,0.0026772036,0.0018413975,-0.07400691,-0.13033998,0.003367499,-0.03704188,0.054551743,0.71265,0.4582752,0.040385917,-0.2818396,0.06339515,0.4359541,-0.36521995,-0.24125661,0.7008094,0.027150104,0.09489271,-0.03441579,-0.044130012,0.87667996,0.34462115,0.46879974,0.057694845,-0.035822306,0.0036380147,0.15391478,0.15530337,0.8336951,-0.7280208,0.04602537,0.8945506,0.23322727,-0.43719465,0.04651806,0.015186364,-0.08986141,-0.09262286,0.00807024,0.34894088,0.14623159,-0.056021087,0.047940344,-0.024089672,-0.18884638,0.0023232955,-0.06460674,0.0032732985,0.1388239,0.2587683,0.030162027,-0.038312398,0.14420752,-0.15165788,-0.018091781,0.0996555,-0.13749792,0.050399374,0.063008256,0.26482916,0.005598116,0.048951447,0.10641759,-0.015302543,0.18931578,-0.006217919,0.54807866,0.05031779,0.038755313,0.33404315,-0.05607552,0.019647984,-0.0022585061,-0.05460877,-0.6102986,0.083265565,0.8148453,0.0068174503,-0.115722984,0.14874505,0.101028495,-0.4822869,0.0060365642,0.20834284,0.032466788,-0.9745402,0.0497334,-0.061494764,-0.9684155,-0.08894367,-0.7817906,-0.0034338855,0.10075795,0.043283023,0.5606083,-0.06391853,-0.21038452,-0.29207265,0.15612654,-0.53953624,0.036655337,-0.6716941,0.4486881,-0.034872115,0.02382226,0.030044688,-0.6056937,0.037626356,-0.036576223,0.07349986,-0.4581155,-0.07127356,-0.5708643,0.22197478,0.04559098,0.24655189,-0.019114954,-0.81087625,-0.002030658,-0.045483537,0.0098458845,0.16709946,0.6071741,0.049660776,-0.12504636,-0.000254896,0.018838027,0.31514952,-0.06390447,0.02979404,0.05840554,-0.13943848,-0.31155682,-0.09901669,-0.81936055,0.004228883,0.13066705,0.010794571,-0.049848244,0.24241129,0.03359253,1.0037973,0.852855,-0.988462,0.03934633,0.0028653326,0.051827088,0.033389755,0.40265045,-0.15408565,0.020758182,0.0631481,0.00061492017,0.33797145,0.024904268,-0.01576161,-0.126949,0.03193068,0.20358534,0.05659143,0.21813631,0.6175609,-0.08076615,-0.05634346,0.50976783,-0.7607935,0.63133174,0.07723977,-0.19829084,-0.7447504,0.16576596,0.06323278,-0.057856515,-0.06423669,-0.48083806,-0.05357407,0.120941035,0.43293035,-0.13015163,0.12869443,0.6811308,-0.3956186,0.052241765,-0.026868803,-0.042882193,0.9860731,-0.06642657,-0.25273538,-0.03483037,-0.34985793,-0.044877924,0.15128711,0.40969905,0.007819163,-0.6772446,0.25986788,0.009749275,-0.05288942,0.032560375,-0.07797625,0.26776332,0.21832062,-0.034637634,0.039237857,0.18373755,-0.04018147,0.67399424,-0.84597737,0.6599744,-0.008648405,-0.06679143,-0.028352074,-0.024719486,-0.030226355,-0.46971068,0.36098057,0.052264556,-0.65640765,0.9236958,-0.05558848,0.020630518,-0.121107645,0.3050138,-0.33493197,0.014931429,-0.0072418996,0.067215264,0.39839146,0.19859217,0.21938433,0.18280193,0.007048189,0.059727646,0.5081648,0.013492456,-0.69027716,0.04013253,-0.02975477,-0.5321024,0.06332896,0.44303262,0.9636366,-0.09646775,0.2974663,-0.05018889,-0.45961517,-0.04119229,0.37390178,0.0034029386,-0.02781541,-0.058990166,0.18808521,0.038416166,0.026969088,-0.042781837,0.0069467616,0.045218926,-0.06086626,-0.4312173,-0.14655653,0.30655578,-0.2968372,0.83391666,-0.04328946,-0.0010157865,0.40151173,0.21515161,0.025576347,0.86354035,0.07014125,-0.026070708,0.24549992,0.011088388,0.1508644,0.34514725,-0.3360706,-0.27437177,-0.44599926,-0.1378539,-0.067383334,0.49228084,-0.26347297,0.050141357,0.28122115,0.0077020037,0.08201651,-0.015689092,0.19890532,0.111907,0.09034129,0.015101882,-0.62347245,-0.46665126,0.81844157,0.09872762,-0.052872688,0.9610296,0.035101674,0.101809025,0.23049395,0.0007439251,0.021266056,-0.85607415,0.09649115,-0.01353251,-0.0033874535,0.078622006,0.0166329,-0.0257765,-0.14419873,0.025459932,-0.5408989,0.037419323,-0.06458155,-0.033476803,0.030875655,0.14416178,0.40083763,-0.74049056,0.025036918,-0.035834163,0.0048120613,0.25964916,0.057797275,0.005712276,-0.16731058,0.3628262,0.10202434,-0.22705534,0.039039306,0.08867743,0.05646477,-0.48656845,0.032228258,-0.20665558,0.042729482,0.0002796757,0.13176382,-0.0583428,-0.009086492,0.023078615,0.6710552,0.101316705,-0.54630095,-0.18131883,0.25474897,-0.4460334,0.06017279,-0.16817579,0.29392457,-0.9008431,0.09819799,-0.0932575,0.041955367,0.0029884675,-0.042408474,-0.38108587,-0.5245222,-0.015342588,-0.25374484,-0.030971164,0.5138491,0.0076909685,-0.05267122,0.04132567,0.14866664,-0.07685596,0.00071795424,0.109872475,0.60750824,-0.011641646,-0.07031233,0.014532154,-0.69806904,-0.2515942,0.073101245,-0.008645827,-0.34788376,0.10274678,-0.056866683,0.025281066,0.037331782,0.9034145,0.024427047,0.0118261725,0.06937711,0.05775653,0.037361775,-0.19028282,0.051620238,-0.017450524,-0.7068855,0.04327631,-0.014121536,0.77694136,0.02640765,-0.021122763,0.18058166,-0.06498322,0.055758886,0.061446697,-0.9048087,-0.044721335,-0.040587425,-0.2200435,0.094979644,-0.16971095,-0.07260345,-0.022550682,0.7792765,0.0021273638,0.13514514,-0.09434243,0.04598044,0.5112914,0.19978355,-0.78034025,-0.2821438,0.044415593,0.10236235,-0.28084013,0.06637391,0.06907422,0.3388388,-0.22740169,0.008031782,-0.6683491,-0.050534204,0.24455182,-0.05791603,-0.29036227,0.034232795,-0.39901677,-0.16231538,-0.9403568,-0.083171055,0.32679743,-0.2222897,0.0909665,-0.23790255,-0.029285293,0.024815837,0.7775306,0.005621334,-0.6297385,-0.093633115,-0.083857656,-0.10120489,0.051033434,-0.05895748,0.281088,0.05395215,-0.064051956,-0.04106919,-0.44191045,0.092486136,-0.021399932,0.93566823,-0.052969567,0.045103043,0.045036204,0.7512993,0.651951,0.26188904,0.08036631],\"z\":[-0.0014602505,-0.052407734,-0.6690777,0.07969999,0.59831613,0.055022936,-0.019099701,0.6343164,0.10213366,0.16622442,0.09854363,0.25393748,0.126196,-0.61487544,-0.7466229,-0.0033958387,-0.4011821,0.035582386,-0.12443017,0.0887394,-0.71496165,0.18578666,-0.40981528,-0.30820754,-0.14027864,0.059115298,-0.07127522,-0.8415824,-0.71214193,0.417461,0.17115116,-0.00038646907,0.16579086,0.15120903,-0.69640315,-0.12112018,0.6371935,-0.043410894,-0.012613151,0.54297656,-0.12356124,-0.7424606,-0.65909415,0.2128734,0.020922884,-0.2860568,-0.09842517,-0.74033946,-0.07043757,-0.18359128,0.60709095,-0.83949816,0.1901055,0.21462098,0.09770694,0.2538189,0.14027017,-0.08620936,0.09146933,-0.20402673,0.095508866,0.26076454,0.21159047,0.10895003,0.1274468,-0.29917362,0.23573142,0.22881028,-0.6062802,0.17118403,0.00017800927,0.16473922,0.63054264,0.040433597,-0.32532895,0.18666899,-0.2593988,0.057303775,0.17303458,0.1671584,-0.2390765,-0.17317417,0.15643269,0.24532822,-0.7811961,-0.15940514,0.021549357,0.41195086,0.18176228,0.096048094,0.23053363,-0.1787543,0.06393573,-0.65938216,0.0944771,0.6260396,-0.3472297,0.52986413,0.5211984,0.054135453,-0.72425365,0.41226536,0.14247598,0.61937207,0.21313366,0.6273631,-0.777426,0.6332811,0.23894864,0.06257139,-0.739756,0.6184306,0.4358547,0.14378172,0.6307015,-0.1645382,0.26950747,0.63634723,-0.10856842,0.19249603,0.34019104,-0.36241308,-0.12284366,0.62974495,0.49383792,0.06742727,-0.8298135,-0.46403155,-0.092590444,0.160081,0.11560322,0.35265502,0.26659003,0.2288706,-0.08066044,0.22033754,-0.038373604,0.20146841,0.61075777,-0.30535382,0.13161236,0.24078998,0.038425468,0.100885175,0.15296626,0.068873346,0.11740845,-0.53719896,-0.05892445,-0.09553703,-0.23077726,0.21873686,-0.036642313,0.62992126,0.07107641,-0.59263206,0.23546481,0.14367935,-0.14746785,-0.7877655,0.41393948,-0.18229079,0.1708954,-0.033800416,0.021304576,-0.8706291,-0.37175748,0.10564905,-0.016486254,0.27147466,0.21694344,0.16701636,0.6367953,0.23210603,-0.6450151,0.6335664,0.253502,0.17768332,-0.12037311,-0.058337905,-0.04845965,0.024548294,-0.27201432,0.05412068,-0.6178107,0.15549946,-0.09456395,0.61713934,0.069814265,0.30433467,0.4617582,0.047864623,0.13146448,-0.561838,-0.033232577,0.115270175,-0.7805519,-0.14999261,0.24898064,0.14649296,0.15225878,-0.89895916,-0.15204877,0.23228443,-0.38635457,-0.19692165,0.15361947,-0.44268656,0.63094145,-0.21739426,0.38571075,-0.047480397,0.049986146,-0.26191154,0.068556786,-0.04256039,0.19065648,-0.78348565,-0.0049989074,-0.10600685,0.0024481714,0.5848184,-0.13055527,0.05938303,-0.3582858,0.025642542,-0.14916617,-0.030401837,-0.040570006,0.42023858,0.1488978,-0.70596546,-0.03759311,-0.7631217,-0.73786396,-0.052198224,0.504412,0.023969652,0.27386954,-0.09563072,0.1070202,-0.81443477,0.37754917,0.6060315,-0.0032459479,0.49074787,0.005412448,0.0940327,0.44906703,-0.24844861,0.06576448,0.62814265,0.09995562,0.5851705,0.21350357,-0.17006707,0.528113,-0.39185342,-0.76750153,-0.24480283,-0.02418147,0.6025146,0.13808753,0.19203436,-0.7712347,-0.22602633,0.41242382,0.636405,-0.061825216,0.58230495,-0.013390489,0.51528716,0.038940966,-0.65233135,-0.09882421,-0.49341896,0.2375209,0.25384367,0.18197465,-0.13712761,-0.2286621,0.06696699,0.07038227,0.105713375,0.06656231,0.63129884,0.24987909,0.15155864,-0.6835175,0.18012786,-0.60088694,0.6221746,0.15561354,-0.7935537,-0.17786375,-0.7972307,-0.47947612,0.20861,0.5475986,0.17248279,0.6236448,-0.743187,0.62652326,-0.606059,-0.7423412,0.056122057,0.098354734,0.03158158,0.641865,-0.71807694,0.058084242,-0.0017943941,-0.70958555,-0.09595231,-0.18636134,0.08509081,0.6258143,0.16298217,0.026800353,0.2339417,-0.6560575,-0.77642643,0.21653098,0.22469878,0.034886256,0.006190166,0.61348635,-0.8627508,0.35026503,-0.024587296,-0.029780746,0.3663358,0.080135316,-0.8690098,0.2434783,-0.41347167,-0.12685841,0.3858964,0.38609904,0.29777452,-0.7434695,0.10264569,-0.74837834,-0.7967812,0.0065310057,0.48904172,-0.38629466,0.18307424,0.04006185,0.041131184,-0.048674926,0.27923194,-0.37041262,-0.8114424,-0.4916657,0.37302858,0.53808784,-0.1974918,-0.077037275,0.02976033,0.22939137,0.63874567,0.040663756,-0.7122078,0.27671817,0.33942175,-0.34153605,-0.62548304,-0.83447903,0.24133885,0.06798864,0.024183232,0.26984286,-0.058667652,-0.10137708,0.3859087,0.51782954,0.13910261,-0.11160629,-0.53376293,-0.3010051,-0.1873996,-0.7662666,0.23800159,0.62800306,-0.41695985,0.133625,-0.18228474,0.6288759,0.24693677,-0.03247048,0.10081711,-0.18954465,-0.0064921975,-0.53541833,-0.006368287,-0.18638664,-0.06928859,0.22062594,0.54023784,-0.36597288,0.15133592,0.0023652613,0.099706106,0.2206415,-0.07726911,0.054638643,0.15464127,-0.6683569,-0.53367054,0.008563364,-0.012614617,-0.58437073,0.11778637,-0.042014666,-0.45230815,0.14574048,-0.08342926,-0.08050068,-0.5530733,0.03798169,0.19376051,0.29521653,0.18468592,-0.712116,0.19885108,0.0074630566,0.1879366,0.14921293,0.59148633,-0.1240847,-0.045916148,0.09113764,-0.70688194,0.58269584,-0.23134983,0.09707663,0.46831664,-0.7063283,-0.6686788,-0.03887071,-0.18460283,-0.7240038,-0.18275091,0.3696703,-0.684686,0.10641361,0.13024288,-0.11775228,-0.4154807,-0.7489905,-0.08362029,0.44805676,-0.20044813,0.032357737,0.0028393483,0.14915454,0.05764911,0.12325429,-0.1254367,-0.83868825,0.27429688,0.24402726,-0.46148273,-0.7880311,0.136418,0.56685233,-0.65170115,0.44132116,-0.008109517,0.10053588,0.121940285,-0.70582044,0.31453395,0.16659746,0.25710577,0.06172418,0.6352627,0.110506706,0.63691515,0.101935595,0.078806445,-0.5965183,0.028139502,0.63571,-0.09823316,0.22102892,-0.72208714,-0.479362,0.19499537,0.09615664,-0.783003,-0.074601434,0.10109621,0.19193763,0.4582409,0.45129275,0.1529578,-0.81922257,-0.36602223,0.13525282,0.025346741,0.33047396,-0.27045736,0.507467,-0.16868803,0.19489866,0.13806695,0.63020223,-0.1065421,-0.7933693,-0.07024365,0.17336455,0.16614881,0.021982307,-0.44109002,0.6392924,-0.08600722,-0.31424302,0.18965766,0.09588802,0.18315923,-0.1479741,0.06635706,0.23881379,-0.04581736,-0.80457497,0.021105565,0.2174671,-0.11488628,0.14662889,0.2780924,0.16449705,0.5737182,0.22899067,0.25014526,-0.8194178,-0.06875235,-0.7808781,-0.7325455,0.36526498,0.6399853,0.035556804,0.28754973,0.06548078,-0.85502255,0.2746919,0.047111638,0.6337703,-0.094491154,0.6326563,0.080112204,-0.07477082,0.2031104,-0.813007,0.12502718,0.1814191,-0.18529123,-0.3137093,-0.040838793,-0.7490108,0.011985628,-0.71882844,-0.82963336,-0.3567686,-0.05767826,0.12939616,0.16655421,0.56422836,0.20877096,0.15189108,-0.036655735,-0.12337402,-0.074189015,0.06282782,-0.5619732,-0.6429597,-0.57111365,-0.33967414,0.20406958,0.18049538,-0.11448292,0.41163695,0.56306213,-0.93352836,0.26379946,-0.7512424,-0.04666061,0.18871978,0.63272136,0.16401029,-0.014529899,0.19694653,-0.34154218,-0.14882967,0.6240788,-0.635324,-0.5240398,0.09968785,0.2525779,-0.23350686,-0.36908752,-0.106046066,0.092903994,-0.81158864,0.32834488,-0.88884217,-0.6848521,0.049558487,0.2607087,0.17537048,0.20922115,0.035981257,-0.556611,-0.6886805,0.22464037,-0.35770008,0.038671084,0.09722483,-0.09573762,0.6266779,0.13161016,-0.500351,0.13905299,-0.5303247,-0.04772973,0.5387781,0.32371256,0.04286558,-0.29351628,-0.039477132,0.3875095,0.38405073,-0.037131753,-0.12199702,0.10610301,-0.4007487,-0.10403878,0.63193095,0.2822248,0.029595308,-0.86195123,0.07973703,-0.2715653,0.05786761,0.223126,-0.04805375,0.19155249,0.62618315,0.21003741,0.113412015,0.5912647,-0.41523093,0.1905998,0.56855226,-0.7630347,0.11855384,0.16437969,0.06635107,-0.76587236,0.15760884,0.20430109,-0.31144533,-0.05995035,-0.5398932,0.010164097,0.3425864,-0.5298831,0.623122,0.009475939,-0.07650309,0.017281622,0.13434596,0.62382716,0.19309509,-0.050458603,0.106872536,0.2748467,0.270585,0.3654551,0.17752895,0.11602185,-0.16930243,0.2233983,0.30278558,-0.06905961,0.005343538,0.121766195,-0.70100313,0.30909482,-0.6828004,-0.13255128,0.6309815,0.17828524,-0.83228624,0.62116796,-0.30296153,-0.73702604,-0.034013808,-0.02485267,0.10077828,0.076508865,0.12599951,-0.5296212,-0.90454215,-0.64139456,0.6098592,0.20018205,0.14749262,-0.1311068,0.0312695,-0.48892507,-0.15336525,-0.4661824,-0.7478838,-0.007851493,0.15449914,0.6267775,-0.16840848,-0.68065953,-0.059513204,0.039947126,-0.22580686,0.24631307,0.24289122,0.09047517,-0.02335903,-0.15304375,0.02320249,-0.09660077,-0.046958365,-0.14419574,0.05900117,0.10108076,-0.07830216,0.19439477,0.14062703,0.17411977,-0.0231395,0.031164706,-0.081623845,0.018027145,-0.12293046,-0.4871287,0.02251213,0.03543526,-0.7868569,-0.035775952,-0.058074728,-0.2573013,0.013451127,-0.109365515,-0.6645315,0.039267235,0.22249287,-0.38233125,0.14080238,-0.12671599,0.19388759,0.007468355,0.25506964,-0.5149418,-0.4904755,0.031816162,-0.1342923,-0.07760599,0.044117596,-0.022549313,-0.21719936,0.21119669,-0.2661839,0.29032308,-0.22892553,-0.034853764,-0.012882311,0.29007736,-0.066711724,0.08231376,0.0390551,-0.6466131,0.059753314,0.062584385,0.25481686,-0.11043698,0.089641675,0.10526089,0.16372827,0.2136429,0.024597548,-0.70065194,-0.726402,0.2853184,-0.016819496,0.10376721,0.08266867,-0.1811108,-0.45600924,0.020693913,0.24087855,-0.08614694,0.05569847,0.60684437,0.21591228,-0.003946569,0.11871458,-0.4723578,0.089776434,0.4737897,-0.50797135,0.38781434,-0.8235939,0.6420869,-0.6858629,0.096524,-0.6455571,0.5712397,0.41567692,0.08050692,0.22450423,0.14578885,0.031136777,0.026564993,-0.40585205,-0.566416,-0.0054265894,0.1583173,0.45465758,0.13262922,0.24971646,-0.71540093,0.07559302,-0.84892,-0.042110436,0.19616205,0.059850216,0.27735266,-0.07496438,0.5728325,0.07284771,0.21687698,0.1399495,-0.26765397,0.16808191,-0.59006554,-0.082892485,-0.1597668,-0.021181345,0.13973233,0.32809728,0.62119645,0.14956635,0.2649113,0.22831702,-0.7553931,0.46939853,0.11970515,0.63512546,0.5841055,-0.06855159,-0.57104266,0.6402617,-0.016606323,0.63741344,-0.3531031,-0.2570936,0.10696519,0.63554966,-0.6248908,-0.0075827446,-0.7487677,-0.03405782,-0.100948766,0.34448552,-0.4533722,0.26059976,0.29985687,-0.06360784,0.14791948,0.32068688,0.15459326,0.21486738,0.28168714,-0.03136913,0.009675061,0.0059676953,0.12852809,-0.061779834,-0.82950306,-0.4531558,0.6354757,-0.33802894,-0.049433716,-0.3011699,0.25896013,-0.25611937,-0.80934024,-0.6497304,0.17662045,-0.7872093,-0.41674915,0.08445459,0.06226957,-0.08691988,0.14126186,0.046410818,0.16530496,0.049339622,-0.1572505,-0.10194517,0.1070032,-0.025144957,-0.16831827,-0.6944962,-0.8070935,-0.45464453,0.29612452,0.124878675,-0.024356581,0.029964618,0.0078006163,0.04154265,0.068033636,-0.010417912,-0.5051198,0.6204479,0.07716435,-0.6859454,-0.20517075,0.20824355,-0.60630566,0.62921584,-0.80479217,0.018329805,0.12080576,-0.011190325,0.4520575,0.0052284244,-0.07262906,0.33249372,-0.6459111,-0.39287725,0.036817163,-0.6600218,-0.31842852,0.17550662,-0.26717556,-0.34544304,-0.68046236,-0.104020126,-0.65182,-0.022298217,-0.22441867,-0.82472396,0.12040209,-0.23691735,-0.62209356,0.25177315,-0.0006638169,0.35492384,0.32970968,0.2158623,-0.42265883,0.5901345,0.26079836,0.10514692,0.10705226,0.33046314,-0.14608538,0.20548695,-0.8402902,0.629481,-0.058386877,-0.29554367,0.069803864,-0.74422693,-0.03415581,0.16140553,-0.41557026,0.24741617,0.0029211957,-0.1486716,0.06924961,-0.1277901,0.01279591,-0.41936472,0.21303779,0.04710936,0.12684712,-0.16739917,0.09707666,0.46870592,-0.014063366,-0.03927757,0.011611112,0.17404252,0.24258366,0.15989205,0.554325,-0.01695688,0.3211627,0.633281,0.0055024102,-0.8976851,0.18795192,-0.7922888,0.6398271,0.11542661,0.043187663,-0.12829402,0.19854194,-0.3001592,0.21561447,-0.4403043,-0.113244735,0.6205677,0.06649153,0.014449999,-0.2724215,-0.09031376,0.45863813,0.14060363,0.12605575,-0.8204906,0.15455619],\"type\":\"scatter3d\"}],                        {\"template\":{\"data\":{\"histogram2dcontour\":[{\"type\":\"histogram2dcontour\",\"colorbar\":{\"outlinewidth\":0,\"ticks\":\"\"},\"colorscale\":[[0.0,\"#0d0887\"],[0.1111111111111111,\"#46039f\"],[0.2222222222222222,\"#7201a8\"],[0.3333333333333333,\"#9c179e\"],[0.4444444444444444,\"#bd3786\"],[0.5555555555555556,\"#d8576b\"],[0.6666666666666666,\"#ed7953\"],[0.7777777777777778,\"#fb9f3a\"],[0.8888888888888888,\"#fdca26\"],[1.0,\"#f0f921\"]]}],\"choropleth\":[{\"type\":\"choropleth\",\"colorbar\":{\"outlinewidth\":0,\"ticks\":\"\"}}],\"histogram2d\":[{\"type\":\"histogram2d\",\"colorbar\":{\"outlinewidth\":0,\"ticks\":\"\"},\"colorscale\":[[0.0,\"#0d0887\"],[0.1111111111111111,\"#46039f\"],[0.2222222222222222,\"#7201a8\"],[0.3333333333333333,\"#9c179e\"],[0.4444444444444444,\"#bd3786\"],[0.5555555555555556,\"#d8576b\"],[0.6666666666666666,\"#ed7953\"],[0.7777777777777778,\"#fb9f3a\"],[0.8888888888888888,\"#fdca26\"],[1.0,\"#f0f921\"]]}],\"heatmap\":[{\"type\":\"heatmap\",\"colorbar\":{\"outlinewidth\":0,\"ticks\":\"\"},\"colorscale\":[[0.0,\"#0d0887\"],[0.1111111111111111,\"#46039f\"],[0.2222222222222222,\"#7201a8\"],[0.3333333333333333,\"#9c179e\"],[0.4444444444444444,\"#bd3786\"],[0.5555555555555556,\"#d8576b\"],[0.6666666666666666,\"#ed7953\"],[0.7777777777777778,\"#fb9f3a\"],[0.8888888888888888,\"#fdca26\"],[1.0,\"#f0f921\"]]}],\"heatmapgl\":[{\"type\":\"heatmapgl\",\"colorbar\":{\"outlinewidth\":0,\"ticks\":\"\"},\"colorscale\":[[0.0,\"#0d0887\"],[0.1111111111111111,\"#46039f\"],[0.2222222222222222,\"#7201a8\"],[0.3333333333333333,\"#9c179e\"],[0.4444444444444444,\"#bd3786\"],[0.5555555555555556,\"#d8576b\"],[0.6666666666666666,\"#ed7953\"],[0.7777777777777778,\"#fb9f3a\"],[0.8888888888888888,\"#fdca26\"],[1.0,\"#f0f921\"]]}],\"contourcarpet\":[{\"type\":\"contourcarpet\",\"colorbar\":{\"outlinewidth\":0,\"ticks\":\"\"}}],\"contour\":[{\"type\":\"contour\",\"colorbar\":{\"outlinewidth\":0,\"ticks\":\"\"},\"colorscale\":[[0.0,\"#0d0887\"],[0.1111111111111111,\"#46039f\"],[0.2222222222222222,\"#7201a8\"],[0.3333333333333333,\"#9c179e\"],[0.4444444444444444,\"#bd3786\"],[0.5555555555555556,\"#d8576b\"],[0.6666666666666666,\"#ed7953\"],[0.7777777777777778,\"#fb9f3a\"],[0.8888888888888888,\"#fdca26\"],[1.0,\"#f0f921\"]]}],\"surface\":[{\"type\":\"surface\",\"colorbar\":{\"outlinewidth\":0,\"ticks\":\"\"},\"colorscale\":[[0.0,\"#0d0887\"],[0.1111111111111111,\"#46039f\"],[0.2222222222222222,\"#7201a8\"],[0.3333333333333333,\"#9c179e\"],[0.4444444444444444,\"#bd3786\"],[0.5555555555555556,\"#d8576b\"],[0.6666666666666666,\"#ed7953\"],[0.7777777777777778,\"#fb9f3a\"],[0.8888888888888888,\"#fdca26\"],[1.0,\"#f0f921\"]]}],\"mesh3d\":[{\"type\":\"mesh3d\",\"colorbar\":{\"outlinewidth\":0,\"ticks\":\"\"}}],\"scatter\":[{\"fillpattern\":{\"fillmode\":\"overlay\",\"size\":10,\"solidity\":0.2},\"type\":\"scatter\"}],\"parcoords\":[{\"type\":\"parcoords\",\"line\":{\"colorbar\":{\"outlinewidth\":0,\"ticks\":\"\"}}}],\"scatterpolargl\":[{\"type\":\"scatterpolargl\",\"marker\":{\"colorbar\":{\"outlinewidth\":0,\"ticks\":\"\"}}}],\"bar\":[{\"error_x\":{\"color\":\"#2a3f5f\"},\"error_y\":{\"color\":\"#2a3f5f\"},\"marker\":{\"line\":{\"color\":\"#E5ECF6\",\"width\":0.5},\"pattern\":{\"fillmode\":\"overlay\",\"size\":10,\"solidity\":0.2}},\"type\":\"bar\"}],\"scattergeo\":[{\"type\":\"scattergeo\",\"marker\":{\"colorbar\":{\"outlinewidth\":0,\"ticks\":\"\"}}}],\"scatterpolar\":[{\"type\":\"scatterpolar\",\"marker\":{\"colorbar\":{\"outlinewidth\":0,\"ticks\":\"\"}}}],\"histogram\":[{\"marker\":{\"pattern\":{\"fillmode\":\"overlay\",\"size\":10,\"solidity\":0.2}},\"type\":\"histogram\"}],\"scattergl\":[{\"type\":\"scattergl\",\"marker\":{\"colorbar\":{\"outlinewidth\":0,\"ticks\":\"\"}}}],\"scatter3d\":[{\"type\":\"scatter3d\",\"line\":{\"colorbar\":{\"outlinewidth\":0,\"ticks\":\"\"}},\"marker\":{\"colorbar\":{\"outlinewidth\":0,\"ticks\":\"\"}}}],\"scattermapbox\":[{\"type\":\"scattermapbox\",\"marker\":{\"colorbar\":{\"outlinewidth\":0,\"ticks\":\"\"}}}],\"scatterternary\":[{\"type\":\"scatterternary\",\"marker\":{\"colorbar\":{\"outlinewidth\":0,\"ticks\":\"\"}}}],\"scattercarpet\":[{\"type\":\"scattercarpet\",\"marker\":{\"colorbar\":{\"outlinewidth\":0,\"ticks\":\"\"}}}],\"carpet\":[{\"aaxis\":{\"endlinecolor\":\"#2a3f5f\",\"gridcolor\":\"white\",\"linecolor\":\"white\",\"minorgridcolor\":\"white\",\"startlinecolor\":\"#2a3f5f\"},\"baxis\":{\"endlinecolor\":\"#2a3f5f\",\"gridcolor\":\"white\",\"linecolor\":\"white\",\"minorgridcolor\":\"white\",\"startlinecolor\":\"#2a3f5f\"},\"type\":\"carpet\"}],\"table\":[{\"cells\":{\"fill\":{\"color\":\"#EBF0F8\"},\"line\":{\"color\":\"white\"}},\"header\":{\"fill\":{\"color\":\"#C8D4E3\"},\"line\":{\"color\":\"white\"}},\"type\":\"table\"}],\"barpolar\":[{\"marker\":{\"line\":{\"color\":\"#E5ECF6\",\"width\":0.5},\"pattern\":{\"fillmode\":\"overlay\",\"size\":10,\"solidity\":0.2}},\"type\":\"barpolar\"}],\"pie\":[{\"automargin\":true,\"type\":\"pie\"}]},\"layout\":{\"autotypenumbers\":\"strict\",\"colorway\":[\"#636efa\",\"#EF553B\",\"#00cc96\",\"#ab63fa\",\"#FFA15A\",\"#19d3f3\",\"#FF6692\",\"#B6E880\",\"#FF97FF\",\"#FECB52\"],\"font\":{\"color\":\"#2a3f5f\"},\"hovermode\":\"closest\",\"hoverlabel\":{\"align\":\"left\"},\"paper_bgcolor\":\"white\",\"plot_bgcolor\":\"#E5ECF6\",\"polar\":{\"bgcolor\":\"#E5ECF6\",\"angularaxis\":{\"gridcolor\":\"white\",\"linecolor\":\"white\",\"ticks\":\"\"},\"radialaxis\":{\"gridcolor\":\"white\",\"linecolor\":\"white\",\"ticks\":\"\"}},\"ternary\":{\"bgcolor\":\"#E5ECF6\",\"aaxis\":{\"gridcolor\":\"white\",\"linecolor\":\"white\",\"ticks\":\"\"},\"baxis\":{\"gridcolor\":\"white\",\"linecolor\":\"white\",\"ticks\":\"\"},\"caxis\":{\"gridcolor\":\"white\",\"linecolor\":\"white\",\"ticks\":\"\"}},\"coloraxis\":{\"colorbar\":{\"outlinewidth\":0,\"ticks\":\"\"}},\"colorscale\":{\"sequential\":[[0.0,\"#0d0887\"],[0.1111111111111111,\"#46039f\"],[0.2222222222222222,\"#7201a8\"],[0.3333333333333333,\"#9c179e\"],[0.4444444444444444,\"#bd3786\"],[0.5555555555555556,\"#d8576b\"],[0.6666666666666666,\"#ed7953\"],[0.7777777777777778,\"#fb9f3a\"],[0.8888888888888888,\"#fdca26\"],[1.0,\"#f0f921\"]],\"sequentialminus\":[[0.0,\"#0d0887\"],[0.1111111111111111,\"#46039f\"],[0.2222222222222222,\"#7201a8\"],[0.3333333333333333,\"#9c179e\"],[0.4444444444444444,\"#bd3786\"],[0.5555555555555556,\"#d8576b\"],[0.6666666666666666,\"#ed7953\"],[0.7777777777777778,\"#fb9f3a\"],[0.8888888888888888,\"#fdca26\"],[1.0,\"#f0f921\"]],\"diverging\":[[0,\"#8e0152\"],[0.1,\"#c51b7d\"],[0.2,\"#de77ae\"],[0.3,\"#f1b6da\"],[0.4,\"#fde0ef\"],[0.5,\"#f7f7f7\"],[0.6,\"#e6f5d0\"],[0.7,\"#b8e186\"],[0.8,\"#7fbc41\"],[0.9,\"#4d9221\"],[1,\"#276419\"]]},\"xaxis\":{\"gridcolor\":\"white\",\"linecolor\":\"white\",\"ticks\":\"\",\"title\":{\"standoff\":15},\"zerolinecolor\":\"white\",\"automargin\":true,\"zerolinewidth\":2},\"yaxis\":{\"gridcolor\":\"white\",\"linecolor\":\"white\",\"ticks\":\"\",\"title\":{\"standoff\":15},\"zerolinecolor\":\"white\",\"automargin\":true,\"zerolinewidth\":2},\"scene\":{\"xaxis\":{\"backgroundcolor\":\"#E5ECF6\",\"gridcolor\":\"white\",\"linecolor\":\"white\",\"showbackground\":true,\"ticks\":\"\",\"zerolinecolor\":\"white\",\"gridwidth\":2},\"yaxis\":{\"backgroundcolor\":\"#E5ECF6\",\"gridcolor\":\"white\",\"linecolor\":\"white\",\"showbackground\":true,\"ticks\":\"\",\"zerolinecolor\":\"white\",\"gridwidth\":2},\"zaxis\":{\"backgroundcolor\":\"#E5ECF6\",\"gridcolor\":\"white\",\"linecolor\":\"white\",\"showbackground\":true,\"ticks\":\"\",\"zerolinecolor\":\"white\",\"gridwidth\":2}},\"shapedefaults\":{\"line\":{\"color\":\"#2a3f5f\"}},\"annotationdefaults\":{\"arrowcolor\":\"#2a3f5f\",\"arrowhead\":0,\"arrowwidth\":1},\"geo\":{\"bgcolor\":\"white\",\"landcolor\":\"#E5ECF6\",\"subunitcolor\":\"white\",\"showland\":true,\"showlakes\":true,\"lakecolor\":\"white\"},\"title\":{\"x\":0.05},\"mapbox\":{\"style\":\"light\"}}},\"scene\":{\"xaxis\":{\"title\":{\"text\":\"X Axis\"}},\"yaxis\":{\"title\":{\"text\":\"Y Axis\"}},\"zaxis\":{\"title\":{\"text\":\"Z Axis\"}},\"aspectmode\":\"data\"},\"title\":{\"text\":\"Generated Point Cloud for Prompt: 'An old model plane with propeller'\"}},                        {\"responsive\": true}                    ).then(function(){\n",
       "                            \n",
       "var gd = document.getElementById('498504e0-c513-4608-872a-055679cb74dd');\n",
       "var x = new MutationObserver(function (mutations, observer) {{\n",
       "        var display = window.getComputedStyle(gd).display;\n",
       "        if (!display || display === 'none') {{\n",
       "            console.log([gd, 'removed!']);\n",
       "            Plotly.purge(gd);\n",
       "            observer.disconnect();\n",
       "        }}\n",
       "}});\n",
       "\n",
       "// Listen for the removal of the full notebook cells\n",
       "var notebookContainer = gd.closest('#notebook-container');\n",
       "if (notebookContainer) {{\n",
       "    x.observe(notebookContainer, {childList: true});\n",
       "}}\n",
       "\n",
       "// Listen for the clearing of the current output cell\n",
       "var outputEl = gd.closest('.output');\n",
       "if (outputEl) {{\n",
       "    x.observe(outputEl, {childList: true});\n",
       "}}\n",
       "\n",
       "                        })                };                            </script>        </div>\n",
       "</body>\n",
       "</html>"
      ]
     },
     "metadata": {},
     "output_type": "display_data"
    }
   ],
   "source": [
    "#--------- Text to Point Cloud inference -----------\n",
    "import plotly.graph_objects as go\n",
    "import numpy as np\n",
    "\n",
    "# Example of how to add visualization in the main block\n",
    "if __name__ == '__main__':\n",
    "    device = torch.device('cuda' if torch.cuda.is_available() else 'cpu')\n",
    "    model = Image2PCgen(num_points=1024).to(device)\n",
    "    checkpoint = torch.load(\"/kaggle/working/best_checkpoint.pth\", map_location=device)\n",
    "    model.load_state_dict(checkpoint[\"model_state_dict\"])\n",
    "\n",
    "    # ----------------Insert text prompt here-------------\n",
    "    text_prompt = \"An old model plane with propeller\"\n",
    "    generated_pc_tensor = text_inference(\n",
    "        model=model,\n",
    "        device=device,\n",
    "        prompt=text_prompt,\n",
    "    )\n",
    "\n",
    "    if generated_pc_tensor is not None:\n",
    "        print(\"\\nPlotting the generated point cloud...\")\n",
    "        \n",
    "        # Squeeze the tensor to (N, 3) and convert to a NumPy array\n",
    "        generated_pc_np = generated_pc_tensor.squeeze(0).cpu().numpy()\n",
    "\n",
    "        # Create a Plotly 3D scatter plot\n",
    "        fig = go.Figure(data=[go.Scatter3d(\n",
    "            x=generated_pc_np[:, 0],  \n",
    "            y=generated_pc_np[:, 1], \n",
    "            z=generated_pc_np[:, 2],  \n",
    "            mode='markers',\n",
    "            marker=dict(\n",
    "                size=1.5,\n",
    "                color='blue',\n",
    "                opacity=0.8\n",
    "            )\n",
    "        )])\n",
    "\n",
    "        fig.update_layout(\n",
    "            title=f\"Generated Point Cloud for Prompt: '{text_prompt}'\",\n",
    "            scene=dict(\n",
    "                xaxis_title='X Axis',\n",
    "                yaxis_title='Y Axis',\n",
    "                zaxis_title='Z Axis',\n",
    "                aspectmode='data'\n",
    "            )\n",
    "        )\n",
    "  \n",
    "        fig.show()"
   ]
  }
 ],
 "metadata": {
  "kaggle": {
   "accelerator": "nvidiaTeslaT4",
   "dataSources": [
    {
     "datasetId": 8050646,
     "sourceId": 12736262,
     "sourceType": "datasetVersion"
    },
    {
     "datasetId": 8112627,
     "sourceId": 12828046,
     "sourceType": "datasetVersion"
    },
    {
     "datasetId": 8125211,
     "sourceId": 12846550,
     "sourceType": "datasetVersion"
    }
   ],
   "dockerImageVersionId": 31090,
   "isGpuEnabled": true,
   "isInternetEnabled": true,
   "language": "python",
   "sourceType": "notebook"
  },
  "kernelspec": {
   "display_name": "Python 3",
   "language": "python",
   "name": "python3"
  },
  "language_info": {
   "codemirror_mode": {
    "name": "ipython",
    "version": 3
   },
   "file_extension": ".py",
   "mimetype": "text/x-python",
   "name": "python",
   "nbconvert_exporter": "python",
   "pygments_lexer": "ipython3",
   "version": "3.11.13"
  }
 },
 "nbformat": 4,
 "nbformat_minor": 4
}
